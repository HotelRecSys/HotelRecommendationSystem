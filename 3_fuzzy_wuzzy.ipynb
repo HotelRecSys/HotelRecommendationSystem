{
 "cells": [
  {
   "cell_type": "code",
   "execution_count": 1,
   "id": "successful-belfast",
   "metadata": {
    "ExecuteTime": {
     "end_time": "2021-03-17T11:07:23.814767Z",
     "start_time": "2021-03-17T11:07:22.033343Z"
    }
   },
   "outputs": [],
   "source": [
    "import numpy as np\n",
    "import pandas as pd\n",
    "from rapidfuzz import fuzz"
   ]
  },
  {
   "cell_type": "code",
   "execution_count": 2,
   "id": "continuing-slide",
   "metadata": {
    "ExecuteTime": {
     "end_time": "2021-03-17T11:07:29.308754Z",
     "start_time": "2021-03-17T11:07:24.533712Z"
    }
   },
   "outputs": [],
   "source": [
    "#read booking and trivago item metadata files\n",
    "booking = pd.read_csv('final_booking.csv')\n",
    "trivago = pd.read_csv('trivago_item_metadata.csv')"
   ]
  },
  {
   "cell_type": "code",
   "execution_count": null,
   "id": "subject-allocation",
   "metadata": {},
   "outputs": [],
   "source": [
    "#Comparison of the features of each hotel in the booking table with the trivago hotel features to find similarities \n",
    "#keep the index of the hotel with the highest similarity\n",
    "\n",
    "array = []\n",
    "lines = []\n",
    "index = []\n",
    "copyTrivago = trivago.copy()\n",
    "\n",
    "for j in range(len(booking)): \n",
    "    for i in range(len(trivago)):\n",
    "        if i not in index:\n",
    "            line = copyTrivago['properties'][i]\n",
    "            array.append(tuple([i,fuzz.token_sort_ratio(booking['property'][j], line)])) #i-1 yap\n",
    "\n",
    "    maximum =  max(array,key=lambda item:item[1])[0]\n",
    "    similarity = max(array,key=lambda item:item[1])[1]\n",
    "    print(\"line:\", j,\"\\tmaximum:\", maximum,\"\\tsimilarity:\", similarity)\n",
    "    lines.append(tuple([j,maximum,similarity]))\n",
    "    index.append(maximum)\n",
    "    array = []\n",
    "    \n",
    "#create new similarities csv (include index of booking, index of trivago and similarity ratio)\n",
    "similarity_table = {\n",
    "    \"line\":[i[0] for i in lines] ,\n",
    "    \"maximum\":[i[1] for i in lines],\n",
    "    \"similarity\":[i[2] for i in lines]\n",
    "}\n",
    "similarities = pd.DataFrame(similarity_table)\n",
    "similarities.to_csv(\"similarities.csv\", index=False)"
   ]
  },
  {
   "cell_type": "code",
   "execution_count": 3,
   "id": "spread-copper",
   "metadata": {
    "ExecuteTime": {
     "end_time": "2021-03-15T21:30:55.173018Z",
     "start_time": "2021-03-15T21:30:50.474218Z"
    }
   },
   "outputs": [],
   "source": [
    "#read new similarities file\n",
    "similarities = pd.read_csv(\"similarities.csv\")\n",
    "trivago = pd.read_csv('trivago_item_metadata.csv')\n",
    "booking = pd.read_csv('final_booking.csv')"
   ]
  },
  {
   "cell_type": "code",
   "execution_count": 8,
   "id": "southern-observer",
   "metadata": {
    "ExecuteTime": {
     "end_time": "2021-03-15T21:32:06.627328Z",
     "start_time": "2021-03-15T21:32:06.618231Z"
    }
   },
   "outputs": [
    {
     "name": "stdout",
     "output_type": "stream",
     "text": [
      "50434\n",
      "52754\n"
     ]
    }
   ],
   "source": [
    "#find the id of the empty rows to be deleted\n",
    "print(similarities['line'][50434])\n",
    "print(similarities['line'][50435])"
   ]
  },
  {
   "cell_type": "code",
   "execution_count": 9,
   "id": "descending-dining",
   "metadata": {
    "ExecuteTime": {
     "end_time": "2021-03-15T21:32:07.378207Z",
     "start_time": "2021-03-15T21:32:07.372121Z"
    }
   },
   "outputs": [
    {
     "name": "stdout",
     "output_type": "stream",
     "text": [
      "103188\n",
      "105508\n"
     ]
    }
   ],
   "source": [
    "#find the id of the empty rows to be deleted\n",
    "print(similarities['line'][100869])\n",
    "print(similarities['line'][100870])"
   ]
  },
  {
   "cell_type": "code",
   "execution_count": 10,
   "id": "taken-beaver",
   "metadata": {
    "ExecuteTime": {
     "end_time": "2021-03-15T21:32:08.184244Z",
     "start_time": "2021-03-15T21:32:08.171063Z"
    }
   },
   "outputs": [
    {
     "name": "stdout",
     "output_type": "stream",
     "text": [
      "155943\n"
     ]
    }
   ],
   "source": [
    "#find the id of the empty rows to be deleted\n",
    "print(similarities['line'][151305])"
   ]
  },
  {
   "cell_type": "code",
   "execution_count": 13,
   "id": "brilliant-berlin",
   "metadata": {
    "ExecuteTime": {
     "end_time": "2021-03-15T21:33:05.235727Z",
     "start_time": "2021-03-15T21:33:05.057778Z"
    }
   },
   "outputs": [],
   "source": [
    "#delete from the booking table according to the found ids \n",
    "booking.drop(booking.loc[50435:52753].index, inplace=True)\n",
    "booking.drop(booking.loc[103189:105507].index, inplace=True)\n",
    "booking.drop(booking.loc[155944:].index, inplace=True)"
   ]
  },
  {
   "cell_type": "code",
   "execution_count": null,
   "id": "regular-setting",
   "metadata": {
    "ExecuteTime": {
     "end_time": "2021-03-15T21:35:21.189191Z",
     "start_time": "2021-03-15T21:33:58.965067Z"
    }
   },
   "outputs": [],
   "source": [
    "#match the ids of 2 tables\n",
    "for i in range(len(similarities)):\n",
    "    booking[\"id\"][similarities[\"line\"][i]] = trivago[\"item_id\"][similarities[\"maximum\"][i]]\n",
    "    \n",
    "#create new item metadata csv    \n",
    "booking.to_csv(\"final_item_metadata.csv\", index=False)\n",
    "\n",
    "#read new final_item_metadata file\n",
    "booking = pd.read_csv(\"final_item_metadata.csv\")"
   ]
  }
 ],
 "metadata": {
  "kernelspec": {
   "display_name": "Python 3",
   "language": "python",
   "name": "python3"
  },
  "language_info": {
   "codemirror_mode": {
    "name": "ipython",
    "version": 3
   },
   "file_extension": ".py",
   "mimetype": "text/x-python",
   "name": "python",
   "nbconvert_exporter": "python",
   "pygments_lexer": "ipython3",
   "version": "3.7.4"
  }
 },
 "nbformat": 4,
 "nbformat_minor": 5
}
