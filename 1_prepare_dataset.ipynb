{
 "cells": [
  {
   "cell_type": "code",
   "execution_count": 1,
   "id": "informative-expert",
   "metadata": {
    "ExecuteTime": {
     "end_time": "2021-05-02T18:42:14.655685Z",
     "start_time": "2021-05-02T18:42:13.517921Z"
    }
   },
   "outputs": [],
   "source": [
    "import numpy as np\n",
    "import pandas as pd\n",
    "import math"
   ]
  },
  {
   "cell_type": "markdown",
   "id": "quarterly-venice",
   "metadata": {},
   "source": [
    "# ITEM_METADATA DROP"
   ]
  },
  {
   "cell_type": "code",
   "execution_count": null,
   "id": "naval-moral",
   "metadata": {},
   "outputs": [],
   "source": [
    "#read raw Trivago Recsys 2019 item_metadata datas\n",
    "item_metadata = pd.read_csv('item_metadata.csv')"
   ]
  },
  {
   "cell_type": "code",
   "execution_count": null,
   "id": "signal-steering",
   "metadata": {},
   "outputs": [],
   "source": [
    "#check for \"Safe Hotel\" inscription in the properties of each hotel\n",
    "safeHotel = item_metadata['properties'].str.contains('Safe \\(Hotel\\)').tolist()"
   ]
  },
  {
   "cell_type": "code",
   "execution_count": null,
   "id": "systematic-species",
   "metadata": {},
   "outputs": [],
   "source": [
    "#keep the ids of false ones for \"Safe Hotel\"\n",
    "drop = set()\n",
    "for i in range(len(safeHotel)):\n",
    "    if safeHotel[i] == False:\n",
    "        drop.add(i)"
   ]
  },
  {
   "cell_type": "code",
   "execution_count": null,
   "id": "subsequent-monitor",
   "metadata": {},
   "outputs": [],
   "source": [
    "#delete the stored ids from the table and create a new csv file\n",
    "item_metadata = item_metadata.drop(drop)\n",
    "item_metadata.to_csv(\"trivago_item_metadata.csv\", index = False)"
   ]
  },
  {
   "cell_type": "code",
   "execution_count": 30,
   "id": "specified-green",
   "metadata": {
    "ExecuteTime": {
     "end_time": "2021-05-02T19:02:27.292808Z",
     "start_time": "2021-05-02T19:02:25.917341Z"
    }
   },
   "outputs": [
    {
     "name": "stdout",
     "output_type": "stream",
     "text": [
      "151306\n"
     ]
    }
   ],
   "source": [
    "#read final reduced item_metadata csv\n",
    "hotel = pd.read_csv('trivago_item_metadata.csv')\n",
    "print(len(hotel))"
   ]
  },
  {
   "cell_type": "markdown",
   "id": "geographic-cattle",
   "metadata": {},
   "source": [
    "# TEST DROP"
   ]
  },
  {
   "cell_type": "code",
   "execution_count": 2,
   "id": "exclusive-recognition",
   "metadata": {
    "ExecuteTime": {
     "end_time": "2021-04-30T10:14:43.903708Z",
     "start_time": "2021-04-30T10:13:51.210913Z"
    }
   },
   "outputs": [],
   "source": [
    "#read raw Trivago Recsys 2019 train and test datas\n",
    "train = pd.read_csv('train.csv')\n",
    "test = pd.read_csv('test.csv')"
   ]
  },
  {
   "cell_type": "code",
   "execution_count": 3,
   "id": "liable-palestine",
   "metadata": {
    "ExecuteTime": {
     "end_time": "2021-04-30T10:15:31.079975Z",
     "start_time": "2021-04-30T10:15:04.574760Z"
    },
    "scrolled": true
   },
   "outputs": [],
   "source": [
    "#keep the id of \"clickout item\" actions, as only the those will be used\n",
    "indexTest = set()\n",
    "for i in range(len(test)):\n",
    "    if not test['action_type'][i] == \"clickout item\":\n",
    "        indexTest.add(i)"
   ]
  },
  {
   "cell_type": "code",
   "execution_count": 6,
   "id": "expanded-slide",
   "metadata": {
    "ExecuteTime": {
     "end_time": "2021-03-14T19:41:51.578577Z",
     "start_time": "2021-03-14T19:41:50.742252Z"
    }
   },
   "outputs": [],
   "source": [
    "#delete the stored ids from the table and create a new csv file\n",
    "test = test.drop(indexTest)\n",
    "test.to_csv(\"test_action_type_drop.csv\", index = False)"
   ]
  },
  {
   "cell_type": "code",
   "execution_count": 11,
   "id": "likely-lyric",
   "metadata": {
    "ExecuteTime": {
     "end_time": "2021-04-30T10:21:39.275202Z",
     "start_time": "2021-04-30T10:21:34.285361Z"
    }
   },
   "outputs": [],
   "source": [
    "#read new test data and Hotel csv\n",
    "test = pd.read_csv('test_action_type_drop.csv')"
   ]
  },
  {
   "cell_type": "code",
   "execution_count": null,
   "id": "violent-morris",
   "metadata": {
    "ExecuteTime": {
     "end_time": "2021-04-30T11:29:41.340431Z",
     "start_time": "2021-04-30T10:21:41.794107Z"
    },
    "scrolled": true
   },
   "outputs": [],
   "source": [
    "#delete hotel ids not found in the trivago hotel file from the impressions column of test csv\n",
    "index = []\n",
    "safeHotel = set(hotel['item_id'].values)\n",
    "for i in range(len(test)):\n",
    "    row = test['impressions'][i].split('|')\n",
    "    for j in test['impressions'][i].split('|'):\n",
    "        if int(j) not in safeHotel:\n",
    "            row.remove(j)\n",
    "    test['impressions'][i] = \"|\".join(row)"
   ]
  },
  {
   "cell_type": "code",
   "execution_count": 79,
   "id": "aerial-destiny",
   "metadata": {
    "ExecuteTime": {
     "end_time": "2021-03-14T22:05:33.978468Z",
     "start_time": "2021-03-14T22:05:30.938338Z"
    }
   },
   "outputs": [],
   "source": [
    "#İPTAL\n",
    "#keep test row with empty impressions column\n",
    "empty_impression = []\n",
    "for i in range(len(test['impressions'])):\n",
    "    if test['impressions'][i] == \"\":\n",
    "        empty_impression.append(i)"
   ]
  },
  {
   "cell_type": "code",
   "execution_count": 14,
   "id": "structured-specification",
   "metadata": {
    "ExecuteTime": {
     "end_time": "2021-04-30T11:37:29.797789Z",
     "start_time": "2021-04-30T11:37:24.149506Z"
    }
   },
   "outputs": [],
   "source": [
    "#delete the stored ids from the table and create a new csv file\n",
    "#test = test.drop(empty_impression)"
   ]
  },
  {
   "cell_type": "code",
   "execution_count": 15,
   "id": "toxic-peace",
   "metadata": {
    "ExecuteTime": {
     "end_time": "2021-04-30T11:37:35.021536Z",
     "start_time": "2021-04-30T11:37:32.206038Z"
    }
   },
   "outputs": [
    {
     "name": "stdout",
     "output_type": "stream",
     "text": [
      "528779\n"
     ]
    }
   ],
   "source": [
    "#read final reduced test file\n",
    "test.to_csv(\"last_test.csv\", index = False)\n",
    "test = pd.read_csv('last_test.csv')\n",
    "print(len(test))"
   ]
  },
  {
   "cell_type": "code",
   "execution_count": 23,
   "id": "voluntary-excess",
   "metadata": {
    "ExecuteTime": {
     "end_time": "2021-05-02T18:59:15.078249Z",
     "start_time": "2021-05-02T18:59:11.005620Z"
    }
   },
   "outputs": [],
   "source": [
    "#check if reference value of a hotel is nan or not and drop nan ones\n",
    "empty_reference = []\n",
    "for i in range(len(test)):\n",
    "    if math.isnan(test['reference'][i]):\n",
    "        empty_reference.append(i)\n",
    "test = test.drop(empty_reference)"
   ]
  },
  {
   "cell_type": "code",
   "execution_count": 25,
   "id": "beneficial-facing",
   "metadata": {
    "ExecuteTime": {
     "end_time": "2021-05-02T18:59:41.445848Z",
     "start_time": "2021-05-02T18:59:41.190852Z"
    }
   },
   "outputs": [],
   "source": [
    "#convert reference types float to int\n",
    "test['reference'] = test['reference'].astype(np.int64)"
   ]
  },
  {
   "cell_type": "code",
   "execution_count": 32,
   "id": "annoying-mercy",
   "metadata": {
    "ExecuteTime": {
     "end_time": "2021-05-02T19:04:28.813734Z",
     "start_time": "2021-05-02T19:04:24.524578Z"
    }
   },
   "outputs": [
    {
     "name": "stdout",
     "output_type": "stream",
     "text": [
      "275206\n"
     ]
    }
   ],
   "source": [
    "#save drop reference as csv for id changes\n",
    "test.to_csv(\"drop_reference_test.csv\", index = False)\n",
    "test = pd.read_csv('drop_reference_test.csv')"
   ]
  },
  {
   "cell_type": "code",
   "execution_count": null,
   "id": "subjective-berry",
   "metadata": {
    "ExecuteTime": {
     "end_time": "2021-05-02T19:12:11.463450Z",
     "start_time": "2021-05-02T19:12:07.966633Z"
    }
   },
   "outputs": [],
   "source": [
    "#delete hotel ids not found in the trivago hotel file from the reference column of test csv\n",
    "reference = []\n",
    "notin_item = []\n",
    "safeHotel = set(hotel['item_id'].values)\n",
    "for i in range(len(test)):\n",
    "    if test['reference'][i] not in safeHotel:\n",
    "        notin_item.append(i)\n",
    "\n",
    "test = test.drop(notin_item)"
   ]
  },
  {
   "cell_type": "code",
   "execution_count": 50,
   "id": "available-vulnerability",
   "metadata": {
    "ExecuteTime": {
     "end_time": "2021-05-02T19:12:52.462585Z",
     "start_time": "2021-05-02T19:12:50.480789Z"
    }
   },
   "outputs": [],
   "source": [
    "#save final test dataset \n",
    "test.to_csv(\"real_test.csv\", index = False)"
   ]
  },
  {
   "cell_type": "markdown",
   "id": "adequate-waterproof",
   "metadata": {},
   "source": [
    "# TRAIN DROP"
   ]
  },
  {
   "cell_type": "code",
   "execution_count": 86,
   "id": "sensitive-gossip",
   "metadata": {
    "ExecuteTime": {
     "end_time": "2021-03-14T22:11:01.702902Z",
     "start_time": "2021-03-14T22:09:25.021630Z"
    }
   },
   "outputs": [],
   "source": [
    "#keep the id of \"clickout item\" actions, as only the those will be used\n",
    "indexTrain = set()\n",
    "for i in range(len(train)):\n",
    "    if not train['action_type'][i] == \"clickout item\":\n",
    "        indexTrain.add(i)"
   ]
  },
  {
   "cell_type": "code",
   "execution_count": 87,
   "id": "imported-banking",
   "metadata": {
    "ExecuteTime": {
     "end_time": "2021-03-14T22:11:12.793141Z",
     "start_time": "2021-03-14T22:11:05.561168Z"
    }
   },
   "outputs": [],
   "source": [
    "#delete the stored ids from the table and create a new csv file\n",
    "train = train.drop(indexTrain)\n",
    "train.to_csv(\"train_action_type_drop.csv\", index = False)"
   ]
  },
  {
   "cell_type": "code",
   "execution_count": 16,
   "id": "individual-paraguay",
   "metadata": {
    "ExecuteTime": {
     "end_time": "2021-04-30T11:38:51.297005Z",
     "start_time": "2021-04-30T11:38:32.542083Z"
    }
   },
   "outputs": [],
   "source": [
    "#read new train data\n",
    "train = pd.read_csv('train_action_type_drop.csv')"
   ]
  },
  {
   "cell_type": "code",
   "execution_count": null,
   "id": "solar-diagram",
   "metadata": {
    "ExecuteTime": {
     "start_time": "2021-04-30T11:39:52.484Z"
    },
    "scrolled": true
   },
   "outputs": [],
   "source": [
    "#delete hotel ids not found in the trivago hotel file from the impressions column of train csv\n",
    "index = []\n",
    "safeHotel = set(hotel['item_id'].values)\n",
    "for i in range(len(train)):\n",
    "    row = train['impressions'][i].split('|')\n",
    "    for j in train['impressions'][i].split('|'):\n",
    "        if int(j) not in safeHotel:\n",
    "            row.remove(j)\n",
    "    train['impressions'][i] = \"|\".join(row)"
   ]
  },
  {
   "cell_type": "code",
   "execution_count": 98,
   "id": "equal-investigation",
   "metadata": {
    "ExecuteTime": {
     "end_time": "2021-03-15T09:53:52.834840Z",
     "start_time": "2021-03-15T09:53:45.002640Z"
    }
   },
   "outputs": [],
   "source": [
    "#İPTAL\n",
    "#keep train row with empty impressions column\n",
    "empty_impression = []\n",
    "for i in range(len(train['impressions'])):\n",
    "    if train['impressions'][i] == \"\":\n",
    "        empty_impression.append(i)"
   ]
  },
  {
   "cell_type": "code",
   "execution_count": 101,
   "id": "brown-butterfly",
   "metadata": {
    "ExecuteTime": {
     "end_time": "2021-03-15T09:54:15.177499Z",
     "start_time": "2021-03-15T09:54:14.149020Z"
    }
   },
   "outputs": [],
   "source": [
    "#delete the stored ids from the table and create a new csv file\n",
    "#train = train.drop(empty_impression)\n"
   ]
  },
  {
   "cell_type": "code",
   "execution_count": 6,
   "id": "noble-injury",
   "metadata": {
    "ExecuteTime": {
     "end_time": "2021-03-15T18:16:38.396769Z",
     "start_time": "2021-03-15T18:16:30.054787Z"
    }
   },
   "outputs": [],
   "source": [
    "#read final reduced train csv\n",
    "train.to_csv(\"train_drop.csv\", index = False)\n",
    "train = pd.read_csv('last_train.csv')\n",
    "print(len(train))"
   ]
  },
  {
   "cell_type": "code",
   "execution_count": 40,
   "id": "beneficial-startup",
   "metadata": {
    "ExecuteTime": {
     "end_time": "2021-05-02T19:08:35.574865Z",
     "start_time": "2021-05-02T19:08:22.399543Z"
    }
   },
   "outputs": [],
   "source": [
    "#check if reference value of a hotel is nan or not and drop nan ones\n",
    "empty_reference = []\n",
    "for i in range(len(train)):\n",
    "    if math.isnan(train['reference'][i]):\n",
    "        empty_reference.append(i)\n",
    "train = train.drop(empty_reference)"
   ]
  },
  {
   "cell_type": "code",
   "execution_count": null,
   "id": "royal-humanity",
   "metadata": {
    "ExecuteTime": {
     "end_time": "2021-05-02T19:13:38.277204Z",
     "start_time": "2021-05-02T19:13:02.680201Z"
    },
    "scrolled": true
   },
   "outputs": [],
   "source": [
    "#delete hotel ids not found in the trivago hotel file from the reference column of train csv\n",
    "reference = []\n",
    "notin_item = []\n",
    "safeHotel = set(hotel['item_id'].values)\n",
    "for i in range(len(train)):\n",
    "    if train['reference'][i] not in safeHotel:\n",
    "        notin_item.append(i)\n",
    "\n",
    "train = train.drop(notin_item)"
   ]
  },
  {
   "cell_type": "code",
   "execution_count": 55,
   "id": "challenging-special",
   "metadata": {
    "ExecuteTime": {
     "end_time": "2021-05-02T19:14:33.465367Z",
     "start_time": "2021-05-02T19:14:26.082050Z"
    }
   },
   "outputs": [],
   "source": [
    "#save final train dataset \n",
    "train.to_csv(\"real_train.csv\", index = False)"
   ]
  },
  {
   "cell_type": "markdown",
   "id": "looking-observer",
   "metadata": {},
   "source": [
    "# SUBMISSION DROP"
   ]
  },
  {
   "cell_type": "code",
   "execution_count": 3,
   "id": "greenhouse-static",
   "metadata": {
    "ExecuteTime": {
     "end_time": "2021-03-15T21:52:49.670898Z",
     "start_time": "2021-03-15T21:52:48.177836Z"
    }
   },
   "outputs": [],
   "source": [
    "#read submissions csv file\n",
    "popular = pd.read_csv('submission_popular.csv')"
   ]
  },
  {
   "cell_type": "code",
   "execution_count": 9,
   "id": "parallel-restriction",
   "metadata": {
    "ExecuteTime": {
     "end_time": "2021-03-15T21:57:41.613221Z",
     "start_time": "2021-03-15T21:57:41.590957Z"
    }
   },
   "outputs": [
    {
     "data": {
      "text/plain": [
       "array([    5001,     5002,     5003, ..., 11253972, 11258128, 11260954])"
      ]
     },
     "execution_count": 9,
     "metadata": {},
     "output_type": "execute_result"
    }
   ],
   "source": [
    "#get all \"hotel ids\" from trivago_item_metadata csv\n",
    "ids = hotel['item_id'].values\n",
    "ids"
   ]
  },
  {
   "cell_type": "code",
   "execution_count": null,
   "id": "blind-board",
   "metadata": {
    "ExecuteTime": {
     "end_time": "2021-03-15T22:38:15.600769Z",
     "start_time": "2021-03-15T21:58:15.405375Z"
    }
   },
   "outputs": [],
   "source": [
    "'''\n",
    "delete hotel ids not found in the trivago hotel file from the \n",
    "item_recommendations column of submission_popular csv\n",
    "'''\n",
    "\n",
    "row = set()\n",
    "copy_row = set()\n",
    "for i in range(len(popular)):\n",
    "    row = popular['item_recommendations'][i].split(\" \")\n",
    "    copy_row = row.copy()\n",
    "    for j in range(len(copy_row)):\n",
    "        if int(copy_row[j]) not in ids:\n",
    "            row.remove(copy_row[j])\n",
    "    popular['item_recommendations'][i] = \" \".join(row)"
   ]
  },
  {
   "cell_type": "code",
   "execution_count": 13,
   "id": "extreme-guatemala",
   "metadata": {
    "ExecuteTime": {
     "end_time": "2021-03-15T22:50:03.572457Z",
     "start_time": "2021-03-15T22:50:01.973746Z"
    }
   },
   "outputs": [],
   "source": [
    "#create new submissions csv file\n",
    "popular.to_csv(\"final_submission.csv\", index=False)"
   ]
  },
  {
   "cell_type": "code",
   "execution_count": 56,
   "id": "center-scheme",
   "metadata": {
    "ExecuteTime": {
     "end_time": "2021-05-02T19:25:41.795850Z",
     "start_time": "2021-05-02T19:25:40.699964Z"
    }
   },
   "outputs": [],
   "source": [
    "#read final_submission file\n",
    "populars = pd.read_csv('final_submission.csv')"
   ]
  }
 ],
 "metadata": {
  "kernelspec": {
   "display_name": "Python 3",
   "language": "python",
   "name": "python3"
  },
  "language_info": {
   "codemirror_mode": {
    "name": "ipython",
    "version": 3
   },
   "file_extension": ".py",
   "mimetype": "text/x-python",
   "name": "python",
   "nbconvert_exporter": "python",
   "pygments_lexer": "ipython3",
   "version": "3.7.4"
  }
 },
 "nbformat": 4,
 "nbformat_minor": 5
}
