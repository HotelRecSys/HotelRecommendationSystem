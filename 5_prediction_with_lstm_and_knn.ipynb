{
 "cells": [
  {
   "cell_type": "code",
   "execution_count": 34,
   "id": "upset-petersburg",
   "metadata": {
    "ExecuteTime": {
     "end_time": "2021-06-22T17:56:00.704938Z",
     "start_time": "2021-06-22T17:56:00.017444Z"
    }
   },
   "outputs": [],
   "source": [
    "import pickle\n",
    "import numpy as np\n",
    "import pandas as pd\n",
    "from glob import glob\n",
    "import tensorflow as tf\n",
    "from tensorflow import keras\n",
    "from scipy.sparse import csr_matrix\n",
    "from tensorflow.keras import layers\n",
    "from tensorflow.keras import Input, Model\n",
    "from sklearn.neighbors import DistanceMetric\n",
    "from tensorflow.keras.optimizers import Adam\n",
    "from tensorflow.keras.models import load_model\n",
    "from sklearn.metrics import mean_squared_error\n",
    "from sklearn.neighbors import KNeighborsClassifier\n",
    "from sklearn.model_selection import train_test_split\n",
    "from tensorflow.keras.layers import Dense, LSTM, Embedding, Bidirectional"
   ]
  },
  {
   "cell_type": "code",
   "execution_count": 3,
   "id": "institutional-draft",
   "metadata": {
    "ExecuteTime": {
     "end_time": "2021-06-22T16:30:45.317301Z",
     "start_time": "2021-06-22T16:30:40.166019Z"
    }
   },
   "outputs": [],
   "source": [
    "train = pd.read_csv('real_train.csv')\n",
    "test = pd.read_csv('real_test.csv')"
   ]
  },
  {
   "cell_type": "code",
   "execution_count": 4,
   "id": "acceptable-pasta",
   "metadata": {
    "ExecuteTime": {
     "end_time": "2021-06-22T16:31:10.285085Z",
     "start_time": "2021-06-22T16:30:46.887765Z"
    }
   },
   "outputs": [],
   "source": [
    "#get \"impressions\" and \"prices\" from train dataset and split them by |\n",
    "train['impressions'] = train['impressions'].astype(str)\n",
    "train['impressions'] = train['impressions'].map(lambda x: x.lstrip('[').rstrip(']'))\n",
    "impressions = pd.DataFrame(train.impressions.str.split('|').tolist())\n",
    "train.drop(columns=['impressions'], inplace = True)\n",
    "train['prices'] = train['prices'].astype(str)\n",
    "prices = pd.DataFrame(train.prices.str.split('|').tolist())\n",
    "\n",
    "#concatenate impressions to train dataset as columns \n",
    "train = pd.concat([train, impressions], axis=1)\n",
    "columns = train.columns.to_list()\n",
    "columns[11:] = ['impressions_'+str(i) for i in range(25)]\n",
    "train.columns = columns"
   ]
  },
  {
   "cell_type": "code",
   "execution_count": null,
   "id": "golden-astronomy",
   "metadata": {},
   "outputs": [],
   "source": [
    "# function that calculates weights from a neural network model\n",
    "def calculate_weights(name, model):\n",
    "    #calculate weights\n",
    "    layer = model.get_layer(name)\n",
    "    weights = layer.get_weights()[0]\n",
    "    \n",
    "    #normalize weight results\n",
    "    weights = weights / np.linalg.norm(weights, axis = 1).reshape((-1, 1))\n",
    "    \n",
    "    return weights\n",
    "\n",
    "#return hotel index \n",
    "def get_hotel_index(x):\n",
    "    if x != None:\n",
    "        try:\n",
    "            return id_to_index[int(x)] \n",
    "        except:\n",
    "            return 0\n",
    "    else:\n",
    "        return np.nan"
   ]
  },
  {
   "cell_type": "code",
   "execution_count": 19,
   "id": "listed-imaging",
   "metadata": {
    "ExecuteTime": {
     "end_time": "2021-06-22T16:52:38.246063Z",
     "start_time": "2021-06-22T16:52:37.790440Z"
    }
   },
   "outputs": [],
   "source": [
    "embedding_model = load_model('real_embedding_50.h5')\n",
    "hotel_weights = calculate_weights('hotel_embedding', embedding_model)"
   ]
  },
  {
   "cell_type": "code",
   "execution_count": null,
   "id": "assisted-british",
   "metadata": {},
   "outputs": [],
   "source": [
    "properties_df = pd.read_csv('real_embedding.csv')\n",
    "\n",
    "#get item_id's and columns names from properties_df \n",
    "item_id = properties_df['item_id'].values\n",
    "\n",
    "#create a dictionary as item_id to index\n",
    "id_to_index = {item_id: idx for idx, item_id in enumerate(item_id)}\n",
    "index_to_id = {idx: item_id for item_id, idx in id_to_index.items()}"
   ]
  },
  {
   "cell_type": "markdown",
   "id": "marked-latitude",
   "metadata": {},
   "source": [
    "# LSTM"
   ]
  },
  {
   "cell_type": "code",
   "execution_count": 23,
   "id": "printable-somerset",
   "metadata": {
    "ExecuteTime": {
     "end_time": "2021-06-22T17:18:07.173256Z",
     "start_time": "2021-06-22T17:18:07.156590Z"
    }
   },
   "outputs": [],
   "source": [
    "#create a LSTM model with multi input to one output with 2 Dense Layer and Bidirectional Layer\n",
    "def multi_input_one_output_LSTM(weight):\n",
    "    inputs = Input(shape=(None,)) \n",
    "    \n",
    "    embed = Embedding(hotel_weights.shape[0], 50, weights = [hotel_weights], trainable = False)(inputs) \n",
    "    lstm_out = Bidirectional(LSTM(25, return_sequences = False))(embed) \n",
    "    \n",
    "    #outputs are set as softmax\n",
    "    classifier = Dense(36, activation = 'relu')(lstm_out) \n",
    "    outputs = Dense(weight, activation = 'softmax')(classifier) \n",
    "    model = Model(inputs = [inputs], outputs = [outputs])\n",
    "    \n",
    "    return model"
   ]
  },
  {
   "cell_type": "code",
   "execution_count": null,
   "id": "natural-white",
   "metadata": {},
   "outputs": [],
   "source": [
    "#function that prepare datasets for train_test_split()\n",
    "def prepare_split_LSTM():\n",
    "    #get not null rows' ids and indices\n",
    "    impressionOtel_id = impressions[impressions[0] != 'nan']\n",
    "    impressionOtel_index = impressionOtel_id.applymap(get_hotel_index)\n",
    "\n",
    "    X = []\n",
    "    y = []\n",
    "    \n",
    "    #for each line of train dataset impressions\n",
    "    for i in range(impressionOtel_index.shape[0]):\n",
    "        notNullCount = impressionOtel_index.iloc[i][:].count()\n",
    "       \n",
    "        y.append(id_to_index[train['reference'][i]])\n",
    "        row = np.array(list(impressionOtel_index.iloc[i][:notNullCount].values)).reshape(-1,1)\n",
    "        X.append(row)\n",
    "        \n",
    "    return X,y"
   ]
  },
  {
   "cell_type": "code",
   "execution_count": null,
   "id": "altered-luther",
   "metadata": {},
   "outputs": [],
   "source": [
    "#separates generated X and y arrays 20% as test and 80% as train\n",
    "X, y = prepare_split_LSTM()\n",
    "X_train, X_test, y_train, y_test = train_test_split(X, y, test_size = 0.2)"
   ]
  },
  {
   "cell_type": "code",
   "execution_count": 24,
   "id": "bearing-conditions",
   "metadata": {
    "ExecuteTime": {
     "end_time": "2021-06-22T17:18:15.145627Z",
     "start_time": "2021-06-22T17:18:14.353384Z"
    }
   },
   "outputs": [
    {
     "name": "stdout",
     "output_type": "stream",
     "text": [
      "Model: \"model\"\n",
      "_________________________________________________________________\n",
      "Layer (type)                 Output Shape              Param #   \n",
      "=================================================================\n",
      "input_1 (InputLayer)         [(None, None)]            0         \n",
      "_________________________________________________________________\n",
      "embedding (Embedding)        (None, None, 50)          7565300   \n",
      "_________________________________________________________________\n",
      "bidirectional (Bidirectional (None, 50)                15200     \n",
      "_________________________________________________________________\n",
      "dense (Dense)                (None, 36)                1836      \n",
      "_________________________________________________________________\n",
      "dense_1 (Dense)              (None, 151306)            5598322   \n",
      "=================================================================\n",
      "Total params: 13,180,658\n",
      "Trainable params: 5,615,358\n",
      "Non-trainable params: 7,565,300\n",
      "_________________________________________________________________\n"
     ]
    }
   ],
   "source": [
    "#create LSTM model and compile with sparse_categorical_crossentropy as loss and adam as optimizer \n",
    "model = multi_input_one_output_LSTM(hotel_weights.shape[0])\n",
    "\n",
    "model.compile(loss = \"sparse_categorical_crossentropy\", \n",
    "              optimizer = \"adam\", metrics = [tf.keras.metrics.SparseTopKCategoricalAccuracy(k = 1000)])\n",
    "\n",
    "model.summary()"
   ]
  },
  {
   "cell_type": "code",
   "execution_count": null,
   "id": "civil-front",
   "metadata": {},
   "outputs": [],
   "source": [
    "X_train = [np.array(i).astype('int') for i in X_train]\n",
    "y_train = [np.array([i]).astype('int') for i in y_train] "
   ]
  },
  {
   "cell_type": "code",
   "execution_count": null,
   "id": "raised-plasma",
   "metadata": {},
   "outputs": [],
   "source": [
    "#function that generate batches for model to training\n",
    "def generator(x, y, epoch):\n",
    "    for j in range(epoch):\n",
    "        for i in range(len(y)):\n",
    "            yield x[i].reshape(1,-1), y[i]\n",
    "train_gen = generator(X_train, y_train, 5)"
   ]
  },
  {
   "cell_type": "code",
   "execution_count": 126,
   "id": "mysterious-dayton",
   "metadata": {
    "ExecuteTime": {
     "end_time": "2021-06-20T13:25:25.876518Z",
     "start_time": "2021-06-19T22:27:57.937398Z"
    }
   },
   "outputs": [
    {
     "name": "stdout",
     "output_type": "stream",
     "text": [
      "Epoch 1/5\n",
      "580821/580821 [==============================] - 11322s 19ms/step - loss: 13.6722 - sparse_top_k_categorical_accuracy: 0.1592\n",
      "Epoch 2/5\n",
      "580821/580821 [==============================] - 10192s 18ms/step - loss: 13.3034 - sparse_top_k_categorical_accuracy: 0.2658\n",
      "Epoch 3/5\n",
      "580821/580821 [==============================] - 10212s 18ms/step - loss: 12.8531 - sparse_top_k_categorical_accuracy: 0.3031\n",
      "Epoch 4/5\n",
      "580821/580821 [==============================] - 10186s 18ms/step - loss: 12.5325 - sparse_top_k_categorical_accuracy: 0.3269\n",
      "Epoch 5/5\n",
      "580821/580821 [==============================] - 11936s 21ms/step - loss: 12.3708 - sparse_top_k_categorical_accuracy: 0.3387\n"
     ]
    },
    {
     "data": {
      "text/plain": [
       "<tensorflow.python.keras.callbacks.History at 0x7fba0d26ea90>"
      ]
     },
     "execution_count": 126,
     "metadata": {},
     "output_type": "execute_result"
    }
   ],
   "source": [
    "#fit the model with 5 epoch and with generator function\n",
    "model.fit(train_gen, epochs = 5, steps_per_epoch = len(y_train))\n",
    "model.save('lstm_predict.h5')"
   ]
  },
  {
   "cell_type": "code",
   "execution_count": 25,
   "id": "classical-undergraduate",
   "metadata": {
    "ExecuteTime": {
     "end_time": "2021-06-22T17:20:35.512708Z",
     "start_time": "2021-06-22T17:20:34.494052Z"
    }
   },
   "outputs": [],
   "source": [
    "model = load_model('lstm_predict.h5')"
   ]
  },
  {
   "cell_type": "code",
   "execution_count": null,
   "id": "descending-travel",
   "metadata": {},
   "outputs": [],
   "source": [
    "#finding the predict result for each element of X_test and save in every 1000 to a file\n",
    "\n",
    "maximum = []\n",
    "otel_count = 1\n",
    "line = 0\n",
    "\n",
    "for i in X_test:\n",
    "    temp = model.predict(i.reshape(-1,len(i)))\n",
    "    temp = temp.reshape(-1)\n",
    "    line += 1\n",
    "    if (line % 1000) == 0:\n",
    "        with open(f\"/predict_results/prediction{otel_count}.pkl\", 'wb') as fp:\n",
    "            pickle.dump(maximum,fp)\n",
    "        otel_count += 1\n",
    "        maximum = []\n",
    "    #append largest 20 predicted otels\n",
    "    maximum.append(temp.argsort()[-20:][::-1])\n",
    "    \n",
    "\n",
    "otel_count += 1\n",
    "with open(f\"/predict_results/prediction{otel_count}.pkl\", 'wb') as fp:\n",
    "    pickle.dump(maximum,fp)\n",
    "\n",
    "files = glob('/predict_results/*.pkl')\n",
    "predict_df = pd.concat([pd.DataFrame(pd.read_pickle(fp)) for fp in files], ignore_index = True)\n",
    "predict_df.to_csv('lstm_predict.csv', index = False)"
   ]
  },
  {
   "cell_type": "code",
   "execution_count": 30,
   "id": "charming-bacon",
   "metadata": {
    "ExecuteTime": {
     "end_time": "2021-06-22T17:44:14.762043Z",
     "start_time": "2021-06-22T17:44:14.282712Z"
    }
   },
   "outputs": [],
   "source": [
    "lstm_predict = pd.read_csv('lstm_predict.csv')"
   ]
  },
  {
   "cell_type": "code",
   "execution_count": 31,
   "id": "cloudy-madrid",
   "metadata": {
    "ExecuteTime": {
     "end_time": "2021-06-22T17:44:16.872530Z",
     "start_time": "2021-06-22T17:44:16.848238Z"
    }
   },
   "outputs": [
    {
     "data": {
      "text/html": [
       "<div>\n",
       "<style scoped>\n",
       "    .dataframe tbody tr th:only-of-type {\n",
       "        vertical-align: middle;\n",
       "    }\n",
       "\n",
       "    .dataframe tbody tr th {\n",
       "        vertical-align: top;\n",
       "    }\n",
       "\n",
       "    .dataframe thead th {\n",
       "        text-align: right;\n",
       "    }\n",
       "</style>\n",
       "<table border=\"1\" class=\"dataframe\">\n",
       "  <thead>\n",
       "    <tr style=\"text-align: right;\">\n",
       "      <th></th>\n",
       "      <th>0</th>\n",
       "      <th>1</th>\n",
       "      <th>2</th>\n",
       "      <th>3</th>\n",
       "      <th>4</th>\n",
       "      <th>5</th>\n",
       "      <th>6</th>\n",
       "      <th>7</th>\n",
       "      <th>8</th>\n",
       "      <th>9</th>\n",
       "      <th>10</th>\n",
       "      <th>11</th>\n",
       "      <th>12</th>\n",
       "      <th>13</th>\n",
       "      <th>14</th>\n",
       "      <th>15</th>\n",
       "      <th>16</th>\n",
       "      <th>17</th>\n",
       "      <th>18</th>\n",
       "      <th>19</th>\n",
       "    </tr>\n",
       "  </thead>\n",
       "  <tbody>\n",
       "    <tr>\n",
       "      <th>0</th>\n",
       "      <td>123903</td>\n",
       "      <td>36025</td>\n",
       "      <td>75398</td>\n",
       "      <td>136887</td>\n",
       "      <td>51696</td>\n",
       "      <td>41243</td>\n",
       "      <td>16223</td>\n",
       "      <td>113137</td>\n",
       "      <td>35070</td>\n",
       "      <td>35551</td>\n",
       "      <td>35262</td>\n",
       "      <td>92850</td>\n",
       "      <td>63654</td>\n",
       "      <td>24532</td>\n",
       "      <td>96904</td>\n",
       "      <td>71460</td>\n",
       "      <td>32937</td>\n",
       "      <td>109706</td>\n",
       "      <td>63542</td>\n",
       "      <td>88871</td>\n",
       "    </tr>\n",
       "    <tr>\n",
       "      <th>1</th>\n",
       "      <td>6632</td>\n",
       "      <td>105666</td>\n",
       "      <td>7525</td>\n",
       "      <td>87228</td>\n",
       "      <td>133153</td>\n",
       "      <td>27623</td>\n",
       "      <td>123345</td>\n",
       "      <td>44867</td>\n",
       "      <td>75800</td>\n",
       "      <td>147797</td>\n",
       "      <td>118887</td>\n",
       "      <td>57587</td>\n",
       "      <td>106741</td>\n",
       "      <td>95331</td>\n",
       "      <td>32937</td>\n",
       "      <td>92038</td>\n",
       "      <td>93266</td>\n",
       "      <td>32318</td>\n",
       "      <td>77274</td>\n",
       "      <td>120525</td>\n",
       "    </tr>\n",
       "    <tr>\n",
       "      <th>2</th>\n",
       "      <td>123903</td>\n",
       "      <td>41243</td>\n",
       "      <td>36025</td>\n",
       "      <td>51696</td>\n",
       "      <td>136887</td>\n",
       "      <td>75398</td>\n",
       "      <td>35070</td>\n",
       "      <td>16223</td>\n",
       "      <td>113137</td>\n",
       "      <td>35551</td>\n",
       "      <td>35262</td>\n",
       "      <td>92850</td>\n",
       "      <td>63654</td>\n",
       "      <td>71460</td>\n",
       "      <td>96904</td>\n",
       "      <td>24532</td>\n",
       "      <td>63542</td>\n",
       "      <td>109706</td>\n",
       "      <td>88871</td>\n",
       "      <td>120345</td>\n",
       "    </tr>\n",
       "    <tr>\n",
       "      <th>3</th>\n",
       "      <td>11616</td>\n",
       "      <td>55061</td>\n",
       "      <td>83261</td>\n",
       "      <td>29439</td>\n",
       "      <td>142504</td>\n",
       "      <td>127463</td>\n",
       "      <td>104746</td>\n",
       "      <td>109157</td>\n",
       "      <td>92038</td>\n",
       "      <td>133153</td>\n",
       "      <td>115027</td>\n",
       "      <td>25254</td>\n",
       "      <td>34811</td>\n",
       "      <td>111065</td>\n",
       "      <td>42253</td>\n",
       "      <td>124195</td>\n",
       "      <td>30523</td>\n",
       "      <td>119694</td>\n",
       "      <td>83815</td>\n",
       "      <td>6632</td>\n",
       "    </tr>\n",
       "    <tr>\n",
       "      <th>4</th>\n",
       "      <td>9516</td>\n",
       "      <td>54953</td>\n",
       "      <td>78379</td>\n",
       "      <td>123220</td>\n",
       "      <td>83261</td>\n",
       "      <td>115707</td>\n",
       "      <td>135050</td>\n",
       "      <td>51829</td>\n",
       "      <td>49541</td>\n",
       "      <td>108574</td>\n",
       "      <td>137802</td>\n",
       "      <td>31842</td>\n",
       "      <td>72436</td>\n",
       "      <td>70896</td>\n",
       "      <td>114273</td>\n",
       "      <td>54028</td>\n",
       "      <td>141937</td>\n",
       "      <td>55693</td>\n",
       "      <td>139913</td>\n",
       "      <td>53093</td>\n",
       "    </tr>\n",
       "    <tr>\n",
       "      <th>...</th>\n",
       "      <td>...</td>\n",
       "      <td>...</td>\n",
       "      <td>...</td>\n",
       "      <td>...</td>\n",
       "      <td>...</td>\n",
       "      <td>...</td>\n",
       "      <td>...</td>\n",
       "      <td>...</td>\n",
       "      <td>...</td>\n",
       "      <td>...</td>\n",
       "      <td>...</td>\n",
       "      <td>...</td>\n",
       "      <td>...</td>\n",
       "      <td>...</td>\n",
       "      <td>...</td>\n",
       "      <td>...</td>\n",
       "      <td>...</td>\n",
       "      <td>...</td>\n",
       "      <td>...</td>\n",
       "      <td>...</td>\n",
       "    </tr>\n",
       "    <tr>\n",
       "      <th>145201</th>\n",
       "      <td>107412</td>\n",
       "      <td>72400</td>\n",
       "      <td>18000</td>\n",
       "      <td>45400</td>\n",
       "      <td>141937</td>\n",
       "      <td>105981</td>\n",
       "      <td>99611</td>\n",
       "      <td>34811</td>\n",
       "      <td>34024</td>\n",
       "      <td>75800</td>\n",
       "      <td>123345</td>\n",
       "      <td>94530</td>\n",
       "      <td>133153</td>\n",
       "      <td>123212</td>\n",
       "      <td>65619</td>\n",
       "      <td>30523</td>\n",
       "      <td>127336</td>\n",
       "      <td>45263</td>\n",
       "      <td>75577</td>\n",
       "      <td>100538</td>\n",
       "    </tr>\n",
       "    <tr>\n",
       "      <th>145202</th>\n",
       "      <td>58625</td>\n",
       "      <td>140719</td>\n",
       "      <td>78379</td>\n",
       "      <td>135050</td>\n",
       "      <td>140782</td>\n",
       "      <td>9829</td>\n",
       "      <td>101059</td>\n",
       "      <td>9516</td>\n",
       "      <td>93326</td>\n",
       "      <td>113414</td>\n",
       "      <td>991</td>\n",
       "      <td>123212</td>\n",
       "      <td>40188</td>\n",
       "      <td>31600</td>\n",
       "      <td>85345</td>\n",
       "      <td>75341</td>\n",
       "      <td>2850</td>\n",
       "      <td>91825</td>\n",
       "      <td>102345</td>\n",
       "      <td>101649</td>\n",
       "    </tr>\n",
       "    <tr>\n",
       "      <th>145203</th>\n",
       "      <td>140719</td>\n",
       "      <td>31842</td>\n",
       "      <td>9516</td>\n",
       "      <td>78379</td>\n",
       "      <td>48094</td>\n",
       "      <td>145100</td>\n",
       "      <td>104539</td>\n",
       "      <td>131002</td>\n",
       "      <td>110528</td>\n",
       "      <td>68953</td>\n",
       "      <td>149697</td>\n",
       "      <td>34811</td>\n",
       "      <td>118475</td>\n",
       "      <td>68041</td>\n",
       "      <td>135050</td>\n",
       "      <td>53093</td>\n",
       "      <td>72436</td>\n",
       "      <td>133153</td>\n",
       "      <td>991</td>\n",
       "      <td>127478</td>\n",
       "    </tr>\n",
       "    <tr>\n",
       "      <th>145204</th>\n",
       "      <td>66637</td>\n",
       "      <td>71254</td>\n",
       "      <td>31472</td>\n",
       "      <td>103499</td>\n",
       "      <td>15089</td>\n",
       "      <td>20906</td>\n",
       "      <td>144228</td>\n",
       "      <td>96285</td>\n",
       "      <td>135544</td>\n",
       "      <td>56301</td>\n",
       "      <td>79852</td>\n",
       "      <td>97299</td>\n",
       "      <td>115885</td>\n",
       "      <td>490</td>\n",
       "      <td>142012</td>\n",
       "      <td>63511</td>\n",
       "      <td>139584</td>\n",
       "      <td>114391</td>\n",
       "      <td>11125</td>\n",
       "      <td>20360</td>\n",
       "    </tr>\n",
       "    <tr>\n",
       "      <th>145205</th>\n",
       "      <td>147797</td>\n",
       "      <td>133153</td>\n",
       "      <td>118115</td>\n",
       "      <td>15001</td>\n",
       "      <td>109690</td>\n",
       "      <td>28497</td>\n",
       "      <td>37241</td>\n",
       "      <td>99269</td>\n",
       "      <td>86598</td>\n",
       "      <td>70343</td>\n",
       "      <td>122178</td>\n",
       "      <td>109748</td>\n",
       "      <td>34811</td>\n",
       "      <td>34915</td>\n",
       "      <td>95106</td>\n",
       "      <td>1917</td>\n",
       "      <td>99256</td>\n",
       "      <td>88951</td>\n",
       "      <td>55791</td>\n",
       "      <td>49541</td>\n",
       "    </tr>\n",
       "  </tbody>\n",
       "</table>\n",
       "<p>145206 rows × 20 columns</p>\n",
       "</div>"
      ],
      "text/plain": [
       "             0       1       2       3       4       5       6       7  \\\n",
       "0       123903   36025   75398  136887   51696   41243   16223  113137   \n",
       "1         6632  105666    7525   87228  133153   27623  123345   44867   \n",
       "2       123903   41243   36025   51696  136887   75398   35070   16223   \n",
       "3        11616   55061   83261   29439  142504  127463  104746  109157   \n",
       "4         9516   54953   78379  123220   83261  115707  135050   51829   \n",
       "...        ...     ...     ...     ...     ...     ...     ...     ...   \n",
       "145201  107412   72400   18000   45400  141937  105981   99611   34811   \n",
       "145202   58625  140719   78379  135050  140782    9829  101059    9516   \n",
       "145203  140719   31842    9516   78379   48094  145100  104539  131002   \n",
       "145204   66637   71254   31472  103499   15089   20906  144228   96285   \n",
       "145205  147797  133153  118115   15001  109690   28497   37241   99269   \n",
       "\n",
       "             8       9      10      11      12      13      14      15  \\\n",
       "0        35070   35551   35262   92850   63654   24532   96904   71460   \n",
       "1        75800  147797  118887   57587  106741   95331   32937   92038   \n",
       "2       113137   35551   35262   92850   63654   71460   96904   24532   \n",
       "3        92038  133153  115027   25254   34811  111065   42253  124195   \n",
       "4        49541  108574  137802   31842   72436   70896  114273   54028   \n",
       "...        ...     ...     ...     ...     ...     ...     ...     ...   \n",
       "145201   34024   75800  123345   94530  133153  123212   65619   30523   \n",
       "145202   93326  113414     991  123212   40188   31600   85345   75341   \n",
       "145203  110528   68953  149697   34811  118475   68041  135050   53093   \n",
       "145204  135544   56301   79852   97299  115885     490  142012   63511   \n",
       "145205   86598   70343  122178  109748   34811   34915   95106    1917   \n",
       "\n",
       "            16      17      18      19  \n",
       "0        32937  109706   63542   88871  \n",
       "1        93266   32318   77274  120525  \n",
       "2        63542  109706   88871  120345  \n",
       "3        30523  119694   83815    6632  \n",
       "4       141937   55693  139913   53093  \n",
       "...        ...     ...     ...     ...  \n",
       "145201  127336   45263   75577  100538  \n",
       "145202    2850   91825  102345  101649  \n",
       "145203   72436  133153     991  127478  \n",
       "145204  139584  114391   11125   20360  \n",
       "145205   99256   88951   55791   49541  \n",
       "\n",
       "[145206 rows x 20 columns]"
      ]
     },
     "execution_count": 31,
     "metadata": {},
     "output_type": "execute_result"
    }
   ],
   "source": [
    "lstm_predict"
   ]
  },
  {
   "cell_type": "markdown",
   "id": "progressive-finland",
   "metadata": {},
   "source": [
    "# KNN ALGORITHM"
   ]
  },
  {
   "cell_type": "code",
   "execution_count": null,
   "id": "daily-portable",
   "metadata": {},
   "outputs": [],
   "source": [
    "#function that prepare datasets for train_test_split()\n",
    "def prepare_split_KNN():\n",
    "    #get not null rows' ids and indices\n",
    "    impressionOtel_id = impressions[impressions[0] != 'nan']\n",
    "    impressionOtel_index = impressionOtel_id.applymap(get_hotel_index)\n",
    "    \n",
    "    X = []\n",
    "    y = []\n",
    "    \n",
    "    #for each line of train dataset impressions\n",
    "    for i in range(impressionOtel_index.shape[0]):\n",
    "        notNullCount = impressionOtel_index.iloc[i][:].count()\n",
    "        \n",
    "        #checks if not null count of impressions list greater than zero \n",
    "        if(notNullCount > 0):\n",
    "            y.append(id_to_index[train['reference'][i]])\n",
    "            row = list(impressionOtel_index.iloc[i][:notNullCount].values)\n",
    "            \n",
    "            #checks if not null count of impressions list less than 25 (if true assign 0)\n",
    "            if(notNullCount < 25):\n",
    "                row = row + [0]*(25-notNullCount)\n",
    "\n",
    "            X.append(np.asarray(row))\n",
    "            \n",
    "    return X,y"
   ]
  },
  {
   "cell_type": "code",
   "execution_count": null,
   "id": "national-crawford",
   "metadata": {},
   "outputs": [],
   "source": [
    "#separates generated X and y arrays 20% as test and 80% as train\n",
    "X_KNN, y_KNN = prepare_split_KNN()\n",
    "X_KNN_train, X_KNN_test, y_KNN_train, y_KNN_test = train_test_split(X_KNN, y_KNN, test_size = 0.2)"
   ]
  },
  {
   "cell_type": "code",
   "execution_count": 174,
   "id": "hungry-breach",
   "metadata": {
    "ExecuteTime": {
     "end_time": "2021-06-20T11:57:20.563397Z",
     "start_time": "2021-06-20T11:57:02.647082Z"
    }
   },
   "outputs": [
    {
     "data": {
      "text/plain": [
       "KNeighborsClassifier(algorithm='auto', leaf_size=30, metric='minkowski',\n",
       "                     metric_params=None, n_jobs=None, n_neighbors=1, p=2,\n",
       "                     weights='uniform')"
      ]
     },
     "execution_count": 174,
     "metadata": {},
     "output_type": "execute_result"
    }
   ],
   "source": [
    "#calls KNeighborsClassifier function with n_neighbors parameter as 1 and fit to X_train and y_train\n",
    "neigh = KNeighborsClassifier(n_neighbors= 1)\n",
    "neigh.fit(X_KNN_train, y_KNN_train)"
   ]
  },
  {
   "cell_type": "code",
   "execution_count": null,
   "id": "clean-arthritis",
   "metadata": {
    "ExecuteTime": {
     "end_time": "2021-06-20T12:32:54.061827Z",
     "start_time": "2021-06-20T12:15:10.147620Z"
    },
    "scrolled": true
   },
   "outputs": [],
   "source": [
    "#finding the predict result for each element of X_test\n",
    "predict = []\n",
    "\n",
    "for i in X_KNN_test:\n",
    "    temp = neigh.kneighbors(i.reshape(-1, len(i)))[1]\n",
    "    temp = temp.reshape(-1)\n",
    "    predict.append(X_KNN_train[temp[0]])"
   ]
  },
  {
   "cell_type": "code",
   "execution_count": 184,
   "id": "otherwise-examination",
   "metadata": {
    "ExecuteTime": {
     "end_time": "2021-06-20T14:03:34.374097Z",
     "start_time": "2021-06-20T14:03:25.885784Z"
    }
   },
   "outputs": [],
   "source": [
    "predict = pd.DataFrame(predict)\n",
    "predict.to_csv(\"knn_predict.csv\", index = False)"
   ]
  },
  {
   "cell_type": "code",
   "execution_count": 32,
   "id": "powerful-perspective",
   "metadata": {
    "ExecuteTime": {
     "end_time": "2021-06-22T17:44:38.544711Z",
     "start_time": "2021-06-22T17:44:38.013190Z"
    }
   },
   "outputs": [],
   "source": [
    "knn_predict = pd.read_csv(\"knn_predict.csv\")"
   ]
  },
  {
   "cell_type": "code",
   "execution_count": 33,
   "id": "desirable-context",
   "metadata": {
    "ExecuteTime": {
     "end_time": "2021-06-22T17:44:40.190098Z",
     "start_time": "2021-06-22T17:44:40.084899Z"
    }
   },
   "outputs": [
    {
     "data": {
      "text/html": [
       "<div>\n",
       "<style scoped>\n",
       "    .dataframe tbody tr th:only-of-type {\n",
       "        vertical-align: middle;\n",
       "    }\n",
       "\n",
       "    .dataframe tbody tr th {\n",
       "        vertical-align: top;\n",
       "    }\n",
       "\n",
       "    .dataframe thead th {\n",
       "        text-align: right;\n",
       "    }\n",
       "</style>\n",
       "<table border=\"1\" class=\"dataframe\">\n",
       "  <thead>\n",
       "    <tr style=\"text-align: right;\">\n",
       "      <th></th>\n",
       "      <th>0</th>\n",
       "      <th>1</th>\n",
       "      <th>2</th>\n",
       "      <th>3</th>\n",
       "      <th>4</th>\n",
       "      <th>5</th>\n",
       "      <th>6</th>\n",
       "      <th>7</th>\n",
       "      <th>8</th>\n",
       "      <th>9</th>\n",
       "      <th>...</th>\n",
       "      <th>15</th>\n",
       "      <th>16</th>\n",
       "      <th>17</th>\n",
       "      <th>18</th>\n",
       "      <th>19</th>\n",
       "      <th>20</th>\n",
       "      <th>21</th>\n",
       "      <th>22</th>\n",
       "      <th>23</th>\n",
       "      <th>24</th>\n",
       "    </tr>\n",
       "  </thead>\n",
       "  <tbody>\n",
       "    <tr>\n",
       "      <th>0</th>\n",
       "      <td>124593.0</td>\n",
       "      <td>136145.0</td>\n",
       "      <td>114846.0</td>\n",
       "      <td>136272.0</td>\n",
       "      <td>43385.0</td>\n",
       "      <td>24422.0</td>\n",
       "      <td>0.0</td>\n",
       "      <td>0.0</td>\n",
       "      <td>0.0</td>\n",
       "      <td>0.0</td>\n",
       "      <td>...</td>\n",
       "      <td>0.0</td>\n",
       "      <td>0.0</td>\n",
       "      <td>0.0</td>\n",
       "      <td>0.0</td>\n",
       "      <td>0.0</td>\n",
       "      <td>0.0</td>\n",
       "      <td>0.0</td>\n",
       "      <td>0.0</td>\n",
       "      <td>0.0</td>\n",
       "      <td>0.0</td>\n",
       "    </tr>\n",
       "    <tr>\n",
       "      <th>1</th>\n",
       "      <td>61458.0</td>\n",
       "      <td>65147.0</td>\n",
       "      <td>58464.0</td>\n",
       "      <td>103121.0</td>\n",
       "      <td>67662.0</td>\n",
       "      <td>134459.0</td>\n",
       "      <td>83684.0</td>\n",
       "      <td>147872.0</td>\n",
       "      <td>80653.0</td>\n",
       "      <td>143656.0</td>\n",
       "      <td>...</td>\n",
       "      <td>135478.0</td>\n",
       "      <td>54919.0</td>\n",
       "      <td>21759.0</td>\n",
       "      <td>89000.0</td>\n",
       "      <td>58546.0</td>\n",
       "      <td>137805.0</td>\n",
       "      <td>15632.0</td>\n",
       "      <td>106901.0</td>\n",
       "      <td>0.0</td>\n",
       "      <td>0.0</td>\n",
       "    </tr>\n",
       "    <tr>\n",
       "      <th>2</th>\n",
       "      <td>20787.0</td>\n",
       "      <td>15947.0</td>\n",
       "      <td>139718.0</td>\n",
       "      <td>37600.0</td>\n",
       "      <td>38028.0</td>\n",
       "      <td>116657.0</td>\n",
       "      <td>33687.0</td>\n",
       "      <td>0.0</td>\n",
       "      <td>0.0</td>\n",
       "      <td>0.0</td>\n",
       "      <td>...</td>\n",
       "      <td>0.0</td>\n",
       "      <td>0.0</td>\n",
       "      <td>0.0</td>\n",
       "      <td>0.0</td>\n",
       "      <td>0.0</td>\n",
       "      <td>0.0</td>\n",
       "      <td>0.0</td>\n",
       "      <td>0.0</td>\n",
       "      <td>0.0</td>\n",
       "      <td>0.0</td>\n",
       "    </tr>\n",
       "    <tr>\n",
       "      <th>3</th>\n",
       "      <td>93333.0</td>\n",
       "      <td>122065.0</td>\n",
       "      <td>59533.0</td>\n",
       "      <td>0.0</td>\n",
       "      <td>0.0</td>\n",
       "      <td>0.0</td>\n",
       "      <td>0.0</td>\n",
       "      <td>0.0</td>\n",
       "      <td>0.0</td>\n",
       "      <td>0.0</td>\n",
       "      <td>...</td>\n",
       "      <td>0.0</td>\n",
       "      <td>0.0</td>\n",
       "      <td>0.0</td>\n",
       "      <td>0.0</td>\n",
       "      <td>0.0</td>\n",
       "      <td>0.0</td>\n",
       "      <td>0.0</td>\n",
       "      <td>0.0</td>\n",
       "      <td>0.0</td>\n",
       "      <td>0.0</td>\n",
       "    </tr>\n",
       "    <tr>\n",
       "      <th>4</th>\n",
       "      <td>94947.0</td>\n",
       "      <td>55246.0</td>\n",
       "      <td>3649.0</td>\n",
       "      <td>3159.0</td>\n",
       "      <td>13541.0</td>\n",
       "      <td>111845.0</td>\n",
       "      <td>22418.0</td>\n",
       "      <td>97195.0</td>\n",
       "      <td>85270.0</td>\n",
       "      <td>105451.0</td>\n",
       "      <td>...</td>\n",
       "      <td>0.0</td>\n",
       "      <td>0.0</td>\n",
       "      <td>0.0</td>\n",
       "      <td>0.0</td>\n",
       "      <td>0.0</td>\n",
       "      <td>0.0</td>\n",
       "      <td>0.0</td>\n",
       "      <td>0.0</td>\n",
       "      <td>0.0</td>\n",
       "      <td>0.0</td>\n",
       "    </tr>\n",
       "    <tr>\n",
       "      <th>...</th>\n",
       "      <td>...</td>\n",
       "      <td>...</td>\n",
       "      <td>...</td>\n",
       "      <td>...</td>\n",
       "      <td>...</td>\n",
       "      <td>...</td>\n",
       "      <td>...</td>\n",
       "      <td>...</td>\n",
       "      <td>...</td>\n",
       "      <td>...</td>\n",
       "      <td>...</td>\n",
       "      <td>...</td>\n",
       "      <td>...</td>\n",
       "      <td>...</td>\n",
       "      <td>...</td>\n",
       "      <td>...</td>\n",
       "      <td>...</td>\n",
       "      <td>...</td>\n",
       "      <td>...</td>\n",
       "      <td>...</td>\n",
       "      <td>...</td>\n",
       "    </tr>\n",
       "    <tr>\n",
       "      <th>145201</th>\n",
       "      <td>51622.0</td>\n",
       "      <td>48890.0</td>\n",
       "      <td>135168.0</td>\n",
       "      <td>13673.0</td>\n",
       "      <td>15663.0</td>\n",
       "      <td>82282.0</td>\n",
       "      <td>139044.0</td>\n",
       "      <td>14903.0</td>\n",
       "      <td>103163.0</td>\n",
       "      <td>92526.0</td>\n",
       "      <td>...</td>\n",
       "      <td>22018.0</td>\n",
       "      <td>0.0</td>\n",
       "      <td>0.0</td>\n",
       "      <td>0.0</td>\n",
       "      <td>0.0</td>\n",
       "      <td>0.0</td>\n",
       "      <td>0.0</td>\n",
       "      <td>0.0</td>\n",
       "      <td>0.0</td>\n",
       "      <td>0.0</td>\n",
       "    </tr>\n",
       "    <tr>\n",
       "      <th>145202</th>\n",
       "      <td>78031.0</td>\n",
       "      <td>38663.0</td>\n",
       "      <td>110273.0</td>\n",
       "      <td>82977.0</td>\n",
       "      <td>3429.0</td>\n",
       "      <td>134067.0</td>\n",
       "      <td>35212.0</td>\n",
       "      <td>101812.0</td>\n",
       "      <td>64816.0</td>\n",
       "      <td>133461.0</td>\n",
       "      <td>...</td>\n",
       "      <td>101909.0</td>\n",
       "      <td>131868.0</td>\n",
       "      <td>54608.0</td>\n",
       "      <td>0.0</td>\n",
       "      <td>0.0</td>\n",
       "      <td>0.0</td>\n",
       "      <td>0.0</td>\n",
       "      <td>0.0</td>\n",
       "      <td>0.0</td>\n",
       "      <td>0.0</td>\n",
       "    </tr>\n",
       "    <tr>\n",
       "      <th>145203</th>\n",
       "      <td>1544.0</td>\n",
       "      <td>28109.0</td>\n",
       "      <td>81119.0</td>\n",
       "      <td>63760.0</td>\n",
       "      <td>23870.0</td>\n",
       "      <td>122004.0</td>\n",
       "      <td>116243.0</td>\n",
       "      <td>46668.0</td>\n",
       "      <td>145802.0</td>\n",
       "      <td>87990.0</td>\n",
       "      <td>...</td>\n",
       "      <td>0.0</td>\n",
       "      <td>0.0</td>\n",
       "      <td>0.0</td>\n",
       "      <td>0.0</td>\n",
       "      <td>0.0</td>\n",
       "      <td>0.0</td>\n",
       "      <td>0.0</td>\n",
       "      <td>0.0</td>\n",
       "      <td>0.0</td>\n",
       "      <td>0.0</td>\n",
       "    </tr>\n",
       "    <tr>\n",
       "      <th>145204</th>\n",
       "      <td>111479.0</td>\n",
       "      <td>63224.0</td>\n",
       "      <td>47069.0</td>\n",
       "      <td>76671.0</td>\n",
       "      <td>130948.0</td>\n",
       "      <td>150152.0</td>\n",
       "      <td>63512.0</td>\n",
       "      <td>104844.0</td>\n",
       "      <td>123354.0</td>\n",
       "      <td>89815.0</td>\n",
       "      <td>...</td>\n",
       "      <td>0.0</td>\n",
       "      <td>0.0</td>\n",
       "      <td>0.0</td>\n",
       "      <td>0.0</td>\n",
       "      <td>0.0</td>\n",
       "      <td>0.0</td>\n",
       "      <td>0.0</td>\n",
       "      <td>0.0</td>\n",
       "      <td>0.0</td>\n",
       "      <td>0.0</td>\n",
       "    </tr>\n",
       "    <tr>\n",
       "      <th>145205</th>\n",
       "      <td>45587.0</td>\n",
       "      <td>88927.0</td>\n",
       "      <td>120908.0</td>\n",
       "      <td>83219.0</td>\n",
       "      <td>68976.0</td>\n",
       "      <td>115967.0</td>\n",
       "      <td>67888.0</td>\n",
       "      <td>101059.0</td>\n",
       "      <td>50383.0</td>\n",
       "      <td>132336.0</td>\n",
       "      <td>...</td>\n",
       "      <td>0.0</td>\n",
       "      <td>0.0</td>\n",
       "      <td>0.0</td>\n",
       "      <td>0.0</td>\n",
       "      <td>0.0</td>\n",
       "      <td>0.0</td>\n",
       "      <td>0.0</td>\n",
       "      <td>0.0</td>\n",
       "      <td>0.0</td>\n",
       "      <td>0.0</td>\n",
       "    </tr>\n",
       "  </tbody>\n",
       "</table>\n",
       "<p>145206 rows × 25 columns</p>\n",
       "</div>"
      ],
      "text/plain": [
       "               0         1         2         3         4         5         6  \\\n",
       "0       124593.0  136145.0  114846.0  136272.0   43385.0   24422.0       0.0   \n",
       "1        61458.0   65147.0   58464.0  103121.0   67662.0  134459.0   83684.0   \n",
       "2        20787.0   15947.0  139718.0   37600.0   38028.0  116657.0   33687.0   \n",
       "3        93333.0  122065.0   59533.0       0.0       0.0       0.0       0.0   \n",
       "4        94947.0   55246.0    3649.0    3159.0   13541.0  111845.0   22418.0   \n",
       "...          ...       ...       ...       ...       ...       ...       ...   \n",
       "145201   51622.0   48890.0  135168.0   13673.0   15663.0   82282.0  139044.0   \n",
       "145202   78031.0   38663.0  110273.0   82977.0    3429.0  134067.0   35212.0   \n",
       "145203    1544.0   28109.0   81119.0   63760.0   23870.0  122004.0  116243.0   \n",
       "145204  111479.0   63224.0   47069.0   76671.0  130948.0  150152.0   63512.0   \n",
       "145205   45587.0   88927.0  120908.0   83219.0   68976.0  115967.0   67888.0   \n",
       "\n",
       "               7         8         9  ...        15        16       17  \\\n",
       "0            0.0       0.0       0.0  ...       0.0       0.0      0.0   \n",
       "1       147872.0   80653.0  143656.0  ...  135478.0   54919.0  21759.0   \n",
       "2            0.0       0.0       0.0  ...       0.0       0.0      0.0   \n",
       "3            0.0       0.0       0.0  ...       0.0       0.0      0.0   \n",
       "4        97195.0   85270.0  105451.0  ...       0.0       0.0      0.0   \n",
       "...          ...       ...       ...  ...       ...       ...      ...   \n",
       "145201   14903.0  103163.0   92526.0  ...   22018.0       0.0      0.0   \n",
       "145202  101812.0   64816.0  133461.0  ...  101909.0  131868.0  54608.0   \n",
       "145203   46668.0  145802.0   87990.0  ...       0.0       0.0      0.0   \n",
       "145204  104844.0  123354.0   89815.0  ...       0.0       0.0      0.0   \n",
       "145205  101059.0   50383.0  132336.0  ...       0.0       0.0      0.0   \n",
       "\n",
       "             18       19        20       21        22   23   24  \n",
       "0           0.0      0.0       0.0      0.0       0.0  0.0  0.0  \n",
       "1       89000.0  58546.0  137805.0  15632.0  106901.0  0.0  0.0  \n",
       "2           0.0      0.0       0.0      0.0       0.0  0.0  0.0  \n",
       "3           0.0      0.0       0.0      0.0       0.0  0.0  0.0  \n",
       "4           0.0      0.0       0.0      0.0       0.0  0.0  0.0  \n",
       "...         ...      ...       ...      ...       ...  ...  ...  \n",
       "145201      0.0      0.0       0.0      0.0       0.0  0.0  0.0  \n",
       "145202      0.0      0.0       0.0      0.0       0.0  0.0  0.0  \n",
       "145203      0.0      0.0       0.0      0.0       0.0  0.0  0.0  \n",
       "145204      0.0      0.0       0.0      0.0       0.0  0.0  0.0  \n",
       "145205      0.0      0.0       0.0      0.0       0.0  0.0  0.0  \n",
       "\n",
       "[145206 rows x 25 columns]"
      ]
     },
     "execution_count": 33,
     "metadata": {},
     "output_type": "execute_result"
    }
   ],
   "source": [
    "knn_predict"
   ]
  },
  {
   "cell_type": "markdown",
   "id": "impressive-suicide",
   "metadata": {},
   "source": [
    "# EVALUATION"
   ]
  },
  {
   "cell_type": "markdown",
   "id": "bizarre-secondary",
   "metadata": {},
   "source": [
    "## MRR CALCULATION"
   ]
  },
  {
   "cell_type": "code",
   "execution_count": null,
   "id": "respected-married",
   "metadata": {},
   "outputs": [],
   "source": [
    "#MRR navigates each row of the predictions of true_items' elements and finds id equality, \n",
    "#it takes that row position into rank.\n",
    "\n",
    "#if it cannot find an equal id according to the metric we added, \n",
    "#when 125 (according to 20% error) and more properties find equality, \n",
    "#it takes its row position into rank.\n",
    "\n",
    "def mrr(true_items, predictions):\n",
    "  \n",
    "    rank = 0.0\n",
    "    count = 0\n",
    "    for i in range(len(true_items)):\n",
    "        predictions[i] = np.array(predictions[i])\n",
    "        \n",
    "        for j in range(len(predictions[i])):\n",
    " \n",
    "            if(int(predictions[i][j]) == int(true_items[i])):\n",
    "                count += 1\n",
    "                rank += 1/(j+1)\n",
    "                break\n",
    "                \n",
    "            else:\n",
    "                result = (properties_df.loc[properties_df['item_id'] == index_to_id[int(predictions[i][j])]].values == properties_df.loc[properties_df['item_id'] == index_to_id[int(true_items[i])]].values)\n",
    "                num = result.reshape(-1).tolist().count(True)\n",
    "            \n",
    "                if num > 125:\n",
    "                    count += 1\n",
    "                    rank += 1/(j+1)\n",
    "                    break                 \n",
    "                  \n",
    "    print(\"count:\",count)\n",
    "    print(\"rank:\",rank)\n",
    "    mrr = rank / len(true_items)\n",
    "    return mrr"
   ]
  },
  {
   "cell_type": "markdown",
   "id": "exclusive-knowing",
   "metadata": {},
   "source": [
    "#### MRR RESULT FOR LSTM"
   ]
  },
  {
   "cell_type": "code",
   "execution_count": 160,
   "id": "electoral-principal",
   "metadata": {
    "ExecuteTime": {
     "end_time": "2021-06-21T22:13:00.506566Z",
     "start_time": "2021-06-21T21:37:30.991985Z"
    }
   },
   "outputs": [
    {
     "name": "stdout",
     "output_type": "stream",
     "text": [
      "count: 98696\n",
      "rank: 42516.19599534056\n",
      "0.2927991680463656\n"
     ]
    }
   ],
   "source": [
    "print(mrr(y_test, lstm_predict.values.tolist()))"
   ]
  },
  {
   "cell_type": "markdown",
   "id": "chemical-neutral",
   "metadata": {},
   "source": [
    "#### MRR RESULT FOR KNN"
   ]
  },
  {
   "cell_type": "code",
   "execution_count": 19,
   "id": "adjustable-holiday",
   "metadata": {
    "ExecuteTime": {
     "end_time": "2021-06-22T13:16:45.504091Z",
     "start_time": "2021-06-22T12:34:15.358559Z"
    }
   },
   "outputs": [
    {
     "name": "stdout",
     "output_type": "stream",
     "text": [
      "count: 79060\n",
      "rank: 38862.040088987866\n",
      "0.2676338449443402\n"
     ]
    }
   ],
   "source": [
    "print(mrr(y_KNN_test, knn_predict.values.tolist()))"
   ]
  },
  {
   "cell_type": "markdown",
   "id": "scheduled-translator",
   "metadata": {},
   "source": [
    "## MSE CALCULATION"
   ]
  },
  {
   "cell_type": "code",
   "execution_count": null,
   "id": "polished-copying",
   "metadata": {},
   "outputs": [],
   "source": [
    "#similarity rate between the list of properties of 2 hotels\n",
    "def properties_ratio(true_items, data, pred):\n",
    "    \n",
    "    final = []\n",
    "    for j in range(len(true_items)):\n",
    "        count = 0\n",
    "        for i in range(1, len(data.columns)):\n",
    "            if (list(data.loc[true_items[j]])[i:i+1][0] != list(data.loc[pred[j][0]])[i:i+1][0]): \n",
    "                count += 1\n",
    "\n",
    "        final.append((158-count)/158)\n",
    "    return final"
   ]
  },
  {
   "cell_type": "markdown",
   "id": "interested-sacrifice",
   "metadata": {},
   "source": [
    "#### MSE RESULT FOR LSTM"
   ]
  },
  {
   "cell_type": "code",
   "execution_count": null,
   "id": "consistent-fields",
   "metadata": {},
   "outputs": [],
   "source": [
    "lstm_pred = lstm_predict['0']\n",
    "lstm_pred = [float(i) for i in lstm_pred]\n",
    "lstm_pred = np.array(lstm_pred).reshape(-1, 1)\n",
    "lstm_test = [1.0] * len(lstm_pred['0'])"
   ]
  },
  {
   "cell_type": "code",
   "execution_count": 142,
   "id": "parliamentary-wesley",
   "metadata": {
    "ExecuteTime": {
     "end_time": "2021-06-20T17:37:22.933424Z",
     "start_time": "2021-06-20T17:37:22.890116Z"
    }
   },
   "outputs": [
    {
     "data": {
      "text/plain": [
       "0.07676015461079432"
      ]
     },
     "execution_count": 142,
     "metadata": {},
     "output_type": "execute_result"
    }
   ],
   "source": [
    "mean_squared_error(lstm_test, properties_ratio(y_test, properties_df, lstm_pred))"
   ]
  },
  {
   "cell_type": "markdown",
   "id": "meaning-flood",
   "metadata": {},
   "source": [
    "#### MSE RESULT FOR KNN"
   ]
  },
  {
   "cell_type": "code",
   "execution_count": null,
   "id": "young-privilege",
   "metadata": {},
   "outputs": [],
   "source": [
    "knn_pred = knn_predict['0']\n",
    "knn_pred = [float(i) for i in knn_pred]\n",
    "knn_pred = np.array(knn_pred).reshape(-1, 1)\n",
    "knn_test = [1.0] * len(knn_pred['0'])"
   ]
  },
  {
   "cell_type": "code",
   "execution_count": 199,
   "id": "operating-arena",
   "metadata": {
    "ExecuteTime": {
     "end_time": "2021-06-20T19:01:11.031945Z",
     "start_time": "2021-06-20T19:01:10.488764Z"
    }
   },
   "outputs": [
    {
     "data": {
      "text/plain": [
       "0.055124941393782885"
      ]
     },
     "execution_count": 199,
     "metadata": {},
     "output_type": "execute_result"
    }
   ],
   "source": [
    "mean_squared_error(knn_test, properties_ratio(y_KNN_test, properties_df, knn_pred))"
   ]
  }
 ],
 "metadata": {
  "kernelspec": {
   "display_name": "Python 3",
   "language": "python",
   "name": "python3"
  },
  "language_info": {
   "codemirror_mode": {
    "name": "ipython",
    "version": 3
   },
   "file_extension": ".py",
   "mimetype": "text/x-python",
   "name": "python",
   "nbconvert_exporter": "python",
   "pygments_lexer": "ipython3",
   "version": "3.7.4"
  }
 },
 "nbformat": 4,
 "nbformat_minor": 5
}
