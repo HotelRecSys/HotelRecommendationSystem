{
 "cells": [
  {
   "cell_type": "code",
   "execution_count": 1,
   "id": "musical-right",
   "metadata": {
    "ExecuteTime": {
     "end_time": "2021-06-22T15:50:37.856484Z",
     "start_time": "2021-06-22T15:50:28.965728Z"
    }
   },
   "outputs": [],
   "source": [
    "import pandas as pd\n",
    "import numpy as np\n",
    "import random\n",
    "import tensorflow as tf\n",
    "from tensorflow.python.keras.layers import  Input, Embedding, Dot, Reshape, Dense\n",
    "from tensorflow.python.keras.models import Model\n",
    "from tensorflow.keras.models import load_model"
   ]
  },
  {
   "cell_type": "code",
   "execution_count": 2,
   "id": "happy-petroleum",
   "metadata": {
    "ExecuteTime": {
     "end_time": "2021-06-22T15:51:19.328054Z",
     "start_time": "2021-06-22T15:51:14.087274Z"
    }
   },
   "outputs": [],
   "source": [
    "booking = pd.read_csv('final_item_metadata.csv')\n",
    "trivago = pd.read_csv('trivago_item_metadata.csv')"
   ]
  },
  {
   "cell_type": "code",
   "execution_count": 3,
   "id": "weird-sleeping",
   "metadata": {
    "ExecuteTime": {
     "end_time": "2021-06-22T15:51:22.653677Z",
     "start_time": "2021-06-22T15:51:22.640077Z"
    }
   },
   "outputs": [],
   "source": [
    "#function that generate batches for model to training\n",
    "def generate_batch(pairs, nPositive, negative, data):\n",
    "    \n",
    "    #sets batch's size\n",
    "    batchSize = nPositive * (1 + negative)\n",
    "    batch = np.zeros((batchSize, 3))\n",
    "    label = -1\n",
    "    \n",
    "    #creates a generator\n",
    "    while True:\n",
    "        #choose randomly element from positives\n",
    "        for count, (hotel_id, prop) in enumerate(random.sample(pairs, nPositive)):\n",
    "            batch[count, :] = (hotel_id, prop, 1)\n",
    "\n",
    "        #increment count by 1\n",
    "        count += 1\n",
    "        \n",
    "        #adding negative examples if batch size is greater to count\n",
    "        while count < batchSize:\n",
    "            \n",
    "            #random selection\n",
    "            randomCount = random.randrange(len(data))\n",
    "            randomProp = random.randrange(len(columns))\n",
    "            \n",
    "            #control for if the example is not positive\n",
    "            if (randomCount, randomProp) not in pairs_set:\n",
    "                \n",
    "                #adding example to batch and increment count\n",
    "                batch[count, :] = (random_count, random_prop, label)\n",
    "                count += 1\n",
    "                \n",
    "        #make shuffle and yield the batch\n",
    "        np.random.shuffle(batch)\n",
    "        yield {'hotel_id': batch[:, 0], 'property': batch[:, 1]}, batch[:, 2]\n"
   ]
  },
  {
   "cell_type": "code",
   "execution_count": 4,
   "id": "typical-being",
   "metadata": {
    "ExecuteTime": {
     "end_time": "2021-06-22T15:51:25.662585Z",
     "start_time": "2021-06-22T15:51:25.634058Z"
    }
   },
   "outputs": [],
   "source": [
    "#function that creates the embedding model \n",
    "def embedding_model(data):\n",
    "    #model takes 2 input as otels' and properties\n",
    "    hotel_id = Input(name = 'hotel_id', shape = [1])\n",
    "    prop = Input(name = 'property', shape = [1])\n",
    "    \n",
    "    #embedding the sent dataset and adjusted inputs with a output size of 50\n",
    "    hotel_embedding = Embedding(name = 'hotel_embedding', input_dim = data.shape[0], output_dim = 50)(hotel_id)\n",
    "    prop_embedding = Embedding(name = 'prop_embedding', input_dim = len(columns), output_dim = 50)(prop)\n",
    "    \n",
    "    #dot product calculation of 2 embedding models' \n",
    "    merged = Dot(name = 'dot_product', normalize = True, axes = 2)([hotel_embedding, prop_embedding])\n",
    "    #reshape the dot product result for output\n",
    "    merged = Reshape(target_shape = [1])(merged)\n",
    "    \n",
    "    #sets the input and output of the model\n",
    "    model = Model(inputs = [hotel_id, prop], outputs = merged)\n",
    "    #sets 'mse' for loss parameter and 'Adam' for optimizer parameter\n",
    "    model.compile(optimizer = 'Adam', loss = 'mse')\n",
    "    \n",
    "    return model"
   ]
  },
  {
   "cell_type": "code",
   "execution_count": 7,
   "id": "waiting-teach",
   "metadata": {
    "ExecuteTime": {
     "end_time": "2021-06-22T15:54:11.105343Z",
     "start_time": "2021-06-22T15:54:11.099149Z"
    }
   },
   "outputs": [],
   "source": [
    "def create_properties_df(data):\n",
    "    #get \"properties\" hotel dataset and split them by |\n",
    "    properties_df = pd.DataFrame(data.properties.str.split('|').tolist())\n",
    "    column_values = properties_df.values.ravel()\n",
    "    unique_values =  pd.unique(column_values)\n",
    "    cols = ['item_id'] + unique_values.tolist()\n",
    "    \n",
    "    frame_list = []\n",
    "    \n",
    "    #in the list of all properties, give 1 to the cell that the hotel has and 0 to the one that does not\n",
    "    for row in range(data.shape[0]):\n",
    "        empty_row = dict.fromkeys(cols,0)\n",
    "        empty_row['item_id'] = data['id'][row]\n",
    "        for value in unique_values:\n",
    "            if value in properties_df.loc[row].values:\n",
    "                empty_row[value] = 1\n",
    "            else:\n",
    "                empty_row[value] = 0\n",
    "        frame_list.append(empty_row)\n",
    "\n",
    "    return pd.DataFrame(frame_list)"
   ]
  },
  {
   "cell_type": "markdown",
   "id": "announced-tissue",
   "metadata": {},
   "source": [
    "# EMBEDDING FOR BOOKING DATASET"
   ]
  },
  {
   "cell_type": "code",
   "execution_count": null,
   "id": "excellent-priest",
   "metadata": {},
   "outputs": [],
   "source": [
    "booking_property = create_properties_df(booking)\n",
    "booking_property.to_csv('booking_property.csv', index = False)\n",
    "booking_property = pd.read_csv('booking_property.csv')"
   ]
  },
  {
   "cell_type": "code",
   "execution_count": 12,
   "id": "independent-induction",
   "metadata": {
    "ExecuteTime": {
     "end_time": "2021-06-22T15:57:25.501985Z",
     "start_time": "2021-06-22T15:57:25.033076Z"
    }
   },
   "outputs": [],
   "source": [
    "#get item_id's and columns names from booking_property \n",
    "item_id = booking_property['item_id'].values\n",
    "columns = booking_property.columns.to_list()[1:]\n",
    "properties = booking_property[columns].values\n",
    "\n",
    "#create a dictionary as item_id to index\n",
    "bookingid_to_index = {item_id: idx for idx, item_id in enumerate(item_id)}\n",
    "bookingindex_to_id = {idx: item_id for item_id, idx in bookingid_to_index.items()}"
   ]
  },
  {
   "cell_type": "code",
   "execution_count": null,
   "id": "confident-level",
   "metadata": {},
   "outputs": [],
   "source": [
    "booking_pairs = []\n",
    "\n",
    "#pairs otel ids with its properties index\n",
    "for item in item_id:\n",
    "    booking_pairs.extend((bookingid_to_index[item], columns[p]) for p in range(len(columns)) if (booking_property.loc[bookingid_to_index[item]][columns[p]] == 1))\n",
    "\n",
    "pairs_set = set(booking_pairs)"
   ]
  },
  {
   "cell_type": "code",
   "execution_count": 34,
   "id": "imported-raise",
   "metadata": {
    "ExecuteTime": {
     "end_time": "2021-04-19T11:47:04.309717Z",
     "start_time": "2021-04-19T11:47:03.900836Z"
    }
   },
   "outputs": [
    {
     "name": "stdout",
     "output_type": "stream",
     "text": [
      "Model: \"model\"\n",
      "__________________________________________________________________________________________________\n",
      "Layer (type)                    Output Shape         Param #     Connected to                     \n",
      "==================================================================================================\n",
      "hotel_id (InputLayer)           [(None, 1)]          0                                            \n",
      "__________________________________________________________________________________________________\n",
      "property (InputLayer)           [(None, 1)]          0                                            \n",
      "__________________________________________________________________________________________________\n",
      "hotel_embedding (Embedding)     (None, 1, 50)        7565300     hotel_id[0][0]                   \n",
      "__________________________________________________________________________________________________\n",
      "prop_embedding (Embedding)      (None, 1, 50)        17350       property[0][0]                   \n",
      "__________________________________________________________________________________________________\n",
      "dot_product (Dot)               (None, 1, 1)         0           hotel_embedding[0][0]            \n",
      "                                                                 prop_embedding[0][0]             \n",
      "__________________________________________________________________________________________________\n",
      "reshape (Reshape)               (None, 1)            0           dot_product[0][0]                \n",
      "==================================================================================================\n",
      "Total params: 7,582,650\n",
      "Trainable params: 7,582,650\n",
      "Non-trainable params: 0\n",
      "__________________________________________________________________________________________________\n"
     ]
    }
   ],
   "source": [
    "#create embedding model and show the parameters\n",
    "model = embedding_model(booking_property)\n",
    "model.summary()"
   ]
  },
  {
   "cell_type": "code",
   "execution_count": 36,
   "id": "junior-calibration",
   "metadata": {
    "ExecuteTime": {
     "end_time": "2021-04-19T12:54:00.686273Z",
     "start_time": "2021-04-19T11:47:21.791485Z"
    },
    "scrolled": false
   },
   "outputs": [
    {
     "name": "stdout",
     "output_type": "stream",
     "text": [
      "Epoch 1/15\n",
      "4588/4588 [==============================] - 288s 63ms/step - loss: 0.4661\n",
      "Epoch 2/15\n",
      "4588/4588 [==============================] - 267s 58ms/step - loss: 0.3707\n",
      "Epoch 3/15\n",
      "4588/4588 [==============================] - 239s 52ms/step - loss: 0.3654\n",
      "Epoch 4/15\n",
      "4588/4588 [==============================] - 249s 54ms/step - loss: 0.3631\n",
      "Epoch 5/15\n",
      "4588/4588 [==============================] - 239s 52ms/step - loss: 0.3610\n",
      "Epoch 6/15\n",
      "4588/4588 [==============================] - 258s 56ms/step - loss: 0.3598\n",
      "Epoch 7/15\n",
      "4588/4588 [==============================] - 244s 53ms/step - loss: 0.3586\n",
      "Epoch 8/15\n",
      "4588/4588 [==============================] - 247s 54ms/step - loss: 0.3582\n",
      "Epoch 9/15\n",
      "4588/4588 [==============================] - 265s 58ms/step - loss: 0.3575\n",
      "Epoch 10/15\n",
      "4588/4588 [==============================] - 292s 64ms/step - loss: 0.3569\n",
      "Epoch 11/15\n",
      "4588/4588 [==============================] - 289s 63ms/step - loss: 0.3565\n",
      "Epoch 12/15\n",
      "4588/4588 [==============================] - 294s 64ms/step - loss: 0.3564\n",
      "Epoch 13/15\n",
      "4588/4588 [==============================] - 288s 63ms/step - loss: 0.3557\n",
      "Epoch 14/15\n",
      "4588/4588 [==============================] - 270s 59ms/step - loss: 0.3555\n",
      "Epoch 15/15\n",
      "4588/4588 [==============================] - 270s 59ms/step - loss: 0.3551\n"
     ]
    }
   ],
   "source": [
    "#gets the next batch of the generator\n",
    "gen = generate_batch(booking_pairs, 1024, 2, booking_property)\n",
    "\n",
    "#fit the model with 15 epoch and with generator function\n",
    "h = model.fit_generator(gen, epochs = 15, steps_per_epoch = len(booking_pairs) // 1024, verbose = 1)\n",
    "\n",
    "model.save('./booking_embedding_50.h5')"
   ]
  },
  {
   "cell_type": "code",
   "execution_count": 9,
   "id": "graphic-facility",
   "metadata": {
    "ExecuteTime": {
     "end_time": "2021-05-02T19:43:43.597721Z",
     "start_time": "2021-05-02T19:43:42.993629Z"
    }
   },
   "outputs": [
    {
     "data": {
      "text/plain": [
       "(151306, 50)"
      ]
     },
     "execution_count": 9,
     "metadata": {},
     "output_type": "execute_result"
    }
   ],
   "source": [
    "#get booking model weights\n",
    "b_model = load_model('booking_embedding_50.h5')\n",
    "b_layer = b_model.get_layer('hotel_embedding')\n",
    "b_weights = b_layer.get_weights()[0]\n",
    "b_weights.shape"
   ]
  },
  {
   "cell_type": "code",
   "execution_count": 17,
   "id": "graduate-laser",
   "metadata": {
    "ExecuteTime": {
     "end_time": "2021-06-22T15:59:10.429761Z",
     "start_time": "2021-06-22T15:59:10.379830Z"
    }
   },
   "outputs": [
    {
     "name": "stdout",
     "output_type": "stream",
     "text": [
      "[ 0.01047642 -0.1007245   0.13313863 -0.09584478 -0.24112956  0.17258188\n",
      "  0.06434256  0.07664035 -0.1952924   0.03927489]\n",
      "0.99999994\n"
     ]
    }
   ],
   "source": [
    "#normalization of booking model\n",
    "b_weights = b_weights / np.linalg.norm(b_weights, axis = 1).reshape((-1, 1))\n",
    "print(b_weights[0][:10])\n",
    "print(np.sum(np.square(b_weights[0])))"
   ]
  },
  {
   "cell_type": "markdown",
   "id": "caring-department",
   "metadata": {
    "ExecuteTime": {
     "end_time": "2021-04-14T11:45:28.607105Z",
     "start_time": "2021-04-14T11:45:28.594593Z"
    }
   },
   "source": [
    "# EMBEDDING FOR TRIVAGO DATASET"
   ]
  },
  {
   "cell_type": "code",
   "execution_count": null,
   "id": "champion-wayne",
   "metadata": {},
   "outputs": [],
   "source": [
    "trivago_property = create_properties_df(trivago)\n",
    "trivago_property.to_csv('trivago_property.csv', index = False)\n",
    "trivago_property = pd.read_csv('trivago_property.csv')"
   ]
  },
  {
   "cell_type": "code",
   "execution_count": 20,
   "id": "sweet-publicity",
   "metadata": {
    "ExecuteTime": {
     "end_time": "2021-06-22T16:01:08.023116Z",
     "start_time": "2021-06-22T16:01:07.542884Z"
    }
   },
   "outputs": [],
   "source": [
    "#get item_id's and columns names from booking_property \n",
    "item_id = trivago_property['item_id'].values\n",
    "columns = trivago_property.columns.to_list()[1:]\n",
    "properties = trivago_property[columns].values\n",
    "\n",
    "#create a dictionary as item_id to index and properties to index\n",
    "trivagoid_to_index = {item_id: idx for idx, item_id in enumerate(item_id)}\n",
    "trivagoindex_to_id = {idx: item_id for item_id, idx in trivagoid_to_index.items()}\n",
    "index_to_properties = {idx: properties for idx, properties in  enumerate(properties)}\n",
    "properties_to_index = {prop:idx  for idx, prop in  enumerate(columns)}"
   ]
  },
  {
   "cell_type": "code",
   "execution_count": null,
   "id": "chubby-fundamentals",
   "metadata": {},
   "outputs": [],
   "source": [
    "trivago_pairs = []\n",
    "\n",
    "#pairs otel ids with its properties index\n",
    "for item in item_id:\n",
    "    trivago_pairs.extend((trivagoid_to_index[item], properties_to_index[columns[p]]) for p in range(len(columns)) if (trivago_property.loc[trivagoid_to_index[item]][columns[p]] == 1))\n",
    "\n",
    "pairs_set = set(trivago_pairs)"
   ]
  },
  {
   "cell_type": "code",
   "execution_count": 132,
   "id": "random-platform",
   "metadata": {
    "ExecuteTime": {
     "end_time": "2021-04-18T22:07:59.739113Z",
     "start_time": "2021-04-18T22:07:59.527747Z"
    }
   },
   "outputs": [
    {
     "name": "stdout",
     "output_type": "stream",
     "text": [
      "Model: \"model\"\n",
      "__________________________________________________________________________________________________\n",
      "Layer (type)                    Output Shape         Param #     Connected to                     \n",
      "==================================================================================================\n",
      "hotel_id (InputLayer)           [(None, 1)]          0                                            \n",
      "__________________________________________________________________________________________________\n",
      "property (InputLayer)           [(None, 1)]          0                                            \n",
      "__________________________________________________________________________________________________\n",
      "hotel_embedding (Embedding)     (None, 1, 50)        7565300     hotel_id[0][0]                   \n",
      "__________________________________________________________________________________________________\n",
      "prop_embedding (Embedding)      (None, 1, 50)        7900        property[0][0]                   \n",
      "__________________________________________________________________________________________________\n",
      "dot_product (Dot)               (None, 1, 1)         0           hotel_embedding[0][0]            \n",
      "                                                                 prop_embedding[0][0]             \n",
      "__________________________________________________________________________________________________\n",
      "reshape (Reshape)               (None, 1)            0           dot_product[0][0]                \n",
      "==================================================================================================\n",
      "Total params: 7,573,200\n",
      "Trainable params: 7,573,200\n",
      "Non-trainable params: 0\n",
      "__________________________________________________________________________________________________\n"
     ]
    }
   ],
   "source": [
    "#create embedding model and show the parameters\n",
    "model = embedding_model(trivago_property)\n",
    "model.summary()"
   ]
  },
  {
   "cell_type": "code",
   "execution_count": 133,
   "id": "infinite-breed",
   "metadata": {
    "ExecuteTime": {
     "end_time": "2021-04-18T23:47:38.633636Z",
     "start_time": "2021-04-18T22:08:20.942202Z"
    },
    "scrolled": false
   },
   "outputs": [
    {
     "name": "stdout",
     "output_type": "stream",
     "text": [
      "WARNING:tensorflow:From <ipython-input-133-999f08792c69>:8: Model.fit_generator (from tensorflow.python.keras.engine.training) is deprecated and will be removed in a future version.\n",
      "Instructions for updating:\n",
      "Please use Model.fit, which supports generators.\n",
      "Epoch 1/15\n",
      "6820/6820 [==============================] - 420s 62ms/step - loss: 0.5339\n",
      "Epoch 2/15\n",
      "6820/6820 [==============================] - 409s 60ms/step - loss: 0.4720\n",
      "Epoch 3/15\n",
      "6820/6820 [==============================] - 389s 57ms/step - loss: 0.4666\n",
      "Epoch 4/15\n",
      "6820/6820 [==============================] - 391s 57ms/step - loss: 0.4638\n",
      "Epoch 5/15\n",
      "6820/6820 [==============================] - 389s 57ms/step - loss: 0.4619\n",
      "Epoch 6/15\n",
      "6820/6820 [==============================] - 390s 57ms/step - loss: 0.4605\n",
      "Epoch 7/15\n",
      "6820/6820 [==============================] - 390s 57ms/step - loss: 0.4597\n",
      "Epoch 8/15\n",
      "6820/6820 [==============================] - 391s 57ms/step - loss: 0.4589\n",
      "Epoch 9/15\n",
      "6820/6820 [==============================] - 393s 58ms/step - loss: 0.4582\n",
      "Epoch 10/15\n",
      "6820/6820 [==============================] - 394s 58ms/step - loss: 0.4578\n",
      "Epoch 11/15\n",
      "6820/6820 [==============================] - 397s 58ms/step - loss: 0.4572\n",
      "Epoch 12/15\n",
      "6820/6820 [==============================] - 399s 58ms/step - loss: 0.4572\n",
      "Epoch 13/15\n",
      "6820/6820 [==============================] - 401s 59ms/step - loss: 0.4564\n",
      "Epoch 14/15\n",
      "6820/6820 [==============================] - 403s 59ms/step - loss: 0.4564\n",
      "Epoch 15/15\n",
      "6820/6820 [==============================] - 399s 59ms/step - loss: 0.4560\n"
     ]
    }
   ],
   "source": [
    "#gets the next batch of the generator\n",
    "gen = generate_batch(trivago_pairs, 1024, 2, trivago_property)\n",
    "\n",
    "#fit the model with 15 epoch and with generator function\n",
    "h = model.fit_generator(gen, epochs = 15, steps_per_epoch = len(trivago_pairs) // 1024, verbose = 1)\n",
    "\n",
    "model.save('./trivago_embedding_50.h5')"
   ]
  },
  {
   "cell_type": "code",
   "execution_count": 22,
   "id": "funky-complaint",
   "metadata": {
    "ExecuteTime": {
     "end_time": "2021-06-22T16:01:37.168760Z",
     "start_time": "2021-06-22T16:01:36.733577Z"
    }
   },
   "outputs": [
    {
     "data": {
      "text/plain": [
       "(151306, 50)"
      ]
     },
     "execution_count": 22,
     "metadata": {},
     "output_type": "execute_result"
    }
   ],
   "source": [
    "#get trivago model weights\n",
    "t_model = load_model('trivago_embedding_50.h5')\n",
    "t_layer = t_model.get_layer('hotel_embedding')\n",
    "t_weights = t_layer.get_weights()[0]\n",
    "t_weights.shape"
   ]
  },
  {
   "cell_type": "code",
   "execution_count": 23,
   "id": "excess-bonus",
   "metadata": {
    "ExecuteTime": {
     "end_time": "2021-06-22T16:01:38.686946Z",
     "start_time": "2021-06-22T16:01:38.645799Z"
    }
   },
   "outputs": [
    {
     "name": "stdout",
     "output_type": "stream",
     "text": [
      "[-0.04348783 -0.27479154 -0.03999451 -0.03117155  0.08040609  0.07249643\n",
      " -0.04680613  0.03372157  0.04383764 -0.03346203]\n",
      "1.0\n"
     ]
    }
   ],
   "source": [
    "#normalization of booking model\n",
    "t_weights = t_weights / np.linalg.norm(t_weights, axis = 1).reshape((-1, 1))\n",
    "print(t_weights[0][:10])\n",
    "print(np.sum(np.square(t_weights[0])))"
   ]
  },
  {
   "cell_type": "markdown",
   "id": "metallic-prescription",
   "metadata": {},
   "source": [
    "# FINDING SIMILARITY"
   ]
  },
  {
   "cell_type": "code",
   "execution_count": 24,
   "id": "printable-aircraft",
   "metadata": {
    "ExecuteTime": {
     "end_time": "2021-06-22T16:01:45.923559Z",
     "start_time": "2021-06-22T16:01:45.892041Z"
    }
   },
   "outputs": [],
   "source": [
    "#function that find similarities between two embedding model according to their weights\n",
    "def find_similar(hotel_id, b_weights, t_weights):\n",
    "    \n",
    "    index = bookingid_to_index\n",
    "    rindex = bookingindex_to_id\n",
    "    global maxi, match\n",
    "    \n",
    "    #calculate dot products of 2 embedding models' weights for find distances\n",
    "    try:\n",
    "        distances = np.dot(b_weights, t_weights[trivagoid_to_index[hotel_id]])\n",
    "    except KeyError:\n",
    "        return\n",
    "    \n",
    "    #sort the distances in descending order and get the maximum value\n",
    "    sorted_dists = np.argsort(distances)\n",
    "    closest = sorted_dists[-len(trivago):]\n",
    "\n",
    "    for c in reversed(closest):\n",
    "        if rindex[c] not in maxi:\n",
    "            maxi.add(rindex[c])\n",
    "            match.add((hotel_id, rindex[c], distances[c]))\n",
    "            break"
   ]
  },
  {
   "cell_type": "code",
   "execution_count": null,
   "id": "strategic-kinase",
   "metadata": {},
   "outputs": [],
   "source": [
    "maxi = set()\n",
    "match = set()\n",
    "\n",
    "for i in range(0,len(trivago)):\n",
    "    find_similar(trivago['item_id'][i], b_weights, t_weights)"
   ]
  },
  {
   "cell_type": "code",
   "execution_count": null,
   "id": "blessed-mambo",
   "metadata": {},
   "outputs": [],
   "source": [
    "#create a dataframe of matched otel ids with similarity\n",
    "match_df = pd.DataFrame(match, columns = ['Trivago id', 'Booking id', 'Similarity'])"
   ]
  },
  {
   "cell_type": "code",
   "execution_count": 31,
   "id": "enclosed-typing",
   "metadata": {
    "ExecuteTime": {
     "end_time": "2021-05-02T20:11:13.814443Z",
     "start_time": "2021-05-02T20:11:13.785820Z"
    }
   },
   "outputs": [
    {
     "data": {
      "text/html": [
       "<div>\n",
       "<style scoped>\n",
       "    .dataframe tbody tr th:only-of-type {\n",
       "        vertical-align: middle;\n",
       "    }\n",
       "\n",
       "    .dataframe tbody tr th {\n",
       "        vertical-align: top;\n",
       "    }\n",
       "\n",
       "    .dataframe thead th {\n",
       "        text-align: right;\n",
       "    }\n",
       "</style>\n",
       "<table border=\"1\" class=\"dataframe\">\n",
       "  <thead>\n",
       "    <tr style=\"text-align: right;\">\n",
       "      <th></th>\n",
       "      <th>Trivago id</th>\n",
       "      <th>Booking id</th>\n",
       "      <th>Similarity</th>\n",
       "    </tr>\n",
       "  </thead>\n",
       "  <tbody>\n",
       "    <tr>\n",
       "      <th>0</th>\n",
       "      <td>1319616</td>\n",
       "      <td>2212240</td>\n",
       "      <td>0.200216</td>\n",
       "    </tr>\n",
       "    <tr>\n",
       "      <th>1</th>\n",
       "      <td>9728918</td>\n",
       "      <td>242526</td>\n",
       "      <td>0.043005</td>\n",
       "    </tr>\n",
       "    <tr>\n",
       "      <th>2</th>\n",
       "      <td>52782</td>\n",
       "      <td>61590</td>\n",
       "      <td>0.152323</td>\n",
       "    </tr>\n",
       "    <tr>\n",
       "      <th>3</th>\n",
       "      <td>1369589</td>\n",
       "      <td>2653900</td>\n",
       "      <td>-0.157994</td>\n",
       "    </tr>\n",
       "    <tr>\n",
       "      <th>4</th>\n",
       "      <td>2833400</td>\n",
       "      <td>929753</td>\n",
       "      <td>-0.038480</td>\n",
       "    </tr>\n",
       "    <tr>\n",
       "      <th>...</th>\n",
       "      <td>...</td>\n",
       "      <td>...</td>\n",
       "      <td>...</td>\n",
       "    </tr>\n",
       "    <tr>\n",
       "      <th>151301</th>\n",
       "      <td>2831716</td>\n",
       "      <td>492066</td>\n",
       "      <td>-0.032943</td>\n",
       "    </tr>\n",
       "    <tr>\n",
       "      <th>151302</th>\n",
       "      <td>4728514</td>\n",
       "      <td>1408010</td>\n",
       "      <td>-0.286148</td>\n",
       "    </tr>\n",
       "    <tr>\n",
       "      <th>151303</th>\n",
       "      <td>19570</td>\n",
       "      <td>61815</td>\n",
       "      <td>0.019076</td>\n",
       "    </tr>\n",
       "    <tr>\n",
       "      <th>151304</th>\n",
       "      <td>57237</td>\n",
       "      <td>2422279</td>\n",
       "      <td>-0.099991</td>\n",
       "    </tr>\n",
       "    <tr>\n",
       "      <th>151305</th>\n",
       "      <td>3061772</td>\n",
       "      <td>2860107</td>\n",
       "      <td>-0.269662</td>\n",
       "    </tr>\n",
       "  </tbody>\n",
       "</table>\n",
       "<p>151306 rows × 3 columns</p>\n",
       "</div>"
      ],
      "text/plain": [
       "        Trivago id  Booking id  Similarity\n",
       "0          1319616     2212240    0.200216\n",
       "1          9728918      242526    0.043005\n",
       "2            52782       61590    0.152323\n",
       "3          1369589     2653900   -0.157994\n",
       "4          2833400      929753   -0.038480\n",
       "...            ...         ...         ...\n",
       "151301     2831716      492066   -0.032943\n",
       "151302     4728514     1408010   -0.286148\n",
       "151303       19570       61815    0.019076\n",
       "151304       57237     2422279   -0.099991\n",
       "151305     3061772     2860107   -0.269662\n",
       "\n",
       "[151306 rows x 3 columns]"
      ]
     },
     "execution_count": 31,
     "metadata": {},
     "output_type": "execute_result"
    }
   ],
   "source": [
    "match_df"
   ]
  },
  {
   "cell_type": "code",
   "execution_count": 32,
   "id": "adopted-wrong",
   "metadata": {
    "ExecuteTime": {
     "end_time": "2021-05-02T20:11:16.088388Z",
     "start_time": "2021-05-02T20:11:16.081277Z"
    }
   },
   "outputs": [],
   "source": [
    "#based on paired ids: \n",
    "#combine booking's name, city, country, address, photo, score columns with trivago's id, properties columns\n",
    "match_df.columns = match_df.columns.str.replace('Trivago id', 'item_id')\n",
    "match_df.columns = match_df.columns.str.replace('Booking id', 'id')\n",
    "match_df = pd.merge(match_df, booking, on='id')\n",
    "match_df = pd.merge(match_df, trivago, on='item_id')\n",
    "match_df.columns = match_df.columns.str.replace('properties', 'booking_properties')\n",
    "match_df = match_df.drop(columns=['id', 'Similarity', 'url', 'booking_properties'])\n",
    "match_df.to_csv('real_item_metadata.csv', index = False)"
   ]
  },
  {
   "cell_type": "markdown",
   "id": "ultimate-justice",
   "metadata": {},
   "source": [
    "# EMBEDDING FOR MATCHED DATASET"
   ]
  },
  {
   "cell_type": "code",
   "execution_count": 27,
   "id": "willing-loading",
   "metadata": {
    "ExecuteTime": {
     "end_time": "2021-06-22T16:41:49.153760Z",
     "start_time": "2021-06-22T16:41:39.822778Z"
    }
   },
   "outputs": [],
   "source": [
    "item_metadata = pd.read_csv('real_item_metadata.csv')\n",
    "matched_property = pd.read_csv('trivago_property.csv')"
   ]
  },
  {
   "cell_type": "code",
   "execution_count": 29,
   "id": "nonprofit-foundation",
   "metadata": {
    "ExecuteTime": {
     "end_time": "2021-06-22T16:42:50.272363Z",
     "start_time": "2021-06-22T16:42:49.693425Z"
    }
   },
   "outputs": [],
   "source": [
    "#get item_id's and columns names from booking_property \n",
    "item_id = matched_property['item_id'].values\n",
    "columns = matched_property.columns.to_list()[1:]\n",
    "properties = matched_property[columns].values\n",
    "\n",
    "#create a dictionary as item_id to index and properties to index\n",
    "matchedid_to_index = {item_id: idx for idx, item_id in enumerate(item_id)}\n",
    "matchedindex_to_id = {idx: item_id for item_id, idx in matchedid_to_index.items()}\n",
    "index_to_properties = {idx: properties for idx, properties in  enumerate(properties)}\n",
    "properties_to_index = {prop:idx  for idx, prop in  enumerate(columns)}"
   ]
  },
  {
   "cell_type": "code",
   "execution_count": null,
   "id": "modern-orange",
   "metadata": {},
   "outputs": [],
   "source": [
    "matched_pairs = []\n",
    "\n",
    "#pairs otel ids with its properties index\n",
    "for item in item_id:\n",
    "    matched_pairs.extend((matchedid_to_index[item], properties_to_index[columns[p]]) for p in range(len(columns)) if (matched_property.loc[matchedid_to_index[item]][columns[p]] == 1))\n",
    "\n",
    "pairs_set = set(matched_pairs)"
   ]
  },
  {
   "cell_type": "code",
   "execution_count": 9,
   "id": "coordinate-burst",
   "metadata": {
    "ExecuteTime": {
     "end_time": "2021-05-02T22:12:18.984267Z",
     "start_time": "2021-05-02T22:12:18.468349Z"
    }
   },
   "outputs": [
    {
     "name": "stdout",
     "output_type": "stream",
     "text": [
      "Model: \"model\"\n",
      "__________________________________________________________________________________________________\n",
      "Layer (type)                    Output Shape         Param #     Connected to                     \n",
      "==================================================================================================\n",
      "hotel_id (InputLayer)           [(None, 1)]          0                                            \n",
      "__________________________________________________________________________________________________\n",
      "property (InputLayer)           [(None, 1)]          0                                            \n",
      "__________________________________________________________________________________________________\n",
      "hotel_embedding (Embedding)     (None, 1, 50)        7565300     hotel_id[0][0]                   \n",
      "__________________________________________________________________________________________________\n",
      "prop_embedding (Embedding)      (None, 1, 50)        7900        property[0][0]                   \n",
      "__________________________________________________________________________________________________\n",
      "dot_product (Dot)               (None, 1, 1)         0           hotel_embedding[0][0]            \n",
      "                                                                 prop_embedding[0][0]             \n",
      "__________________________________________________________________________________________________\n",
      "reshape (Reshape)               (None, 1)            0           dot_product[0][0]                \n",
      "==================================================================================================\n",
      "Total params: 7,573,200\n",
      "Trainable params: 7,573,200\n",
      "Non-trainable params: 0\n",
      "__________________________________________________________________________________________________\n"
     ]
    }
   ],
   "source": [
    "#create embedding model and show the parameters\n",
    "model = embedding_model(matched_property)\n",
    "model.summary()"
   ]
  },
  {
   "cell_type": "code",
   "execution_count": 10,
   "id": "southern-sponsorship",
   "metadata": {
    "ExecuteTime": {
     "end_time": "2021-05-02T23:49:10.613180Z",
     "start_time": "2021-05-02T22:12:39.017484Z"
    },
    "scrolled": false
   },
   "outputs": [
    {
     "name": "stdout",
     "output_type": "stream",
     "text": [
      "WARNING:tensorflow:From <ipython-input-10-5dc374539eb5>:8: Model.fit_generator (from tensorflow.python.keras.engine.training) is deprecated and will be removed in a future version.\n",
      "Instructions for updating:\n",
      "Please use Model.fit, which supports generators.\n",
      "Epoch 1/15\n",
      "6820/6820 [==============================] - 387s 57ms/step - loss: 0.5349\n",
      "Epoch 2/15\n",
      "6820/6820 [==============================] - 380s 56ms/step - loss: 0.4718\n",
      "Epoch 3/15\n",
      "6820/6820 [==============================] - 380s 56ms/step - loss: 0.4665\n",
      "Epoch 4/15\n",
      "6820/6820 [==============================] - 377s 55ms/step - loss: 0.4636\n",
      "Epoch 5/15\n",
      "6820/6820 [==============================] - 382s 56ms/step - loss: 0.4617\n",
      "Epoch 6/15\n",
      "6820/6820 [==============================] - 382s 56ms/step - loss: 0.4609\n",
      "Epoch 7/15\n",
      "6820/6820 [==============================] - 383s 56ms/step - loss: 0.4597\n",
      "Epoch 8/15\n",
      "6820/6820 [==============================] - 385s 56ms/step - loss: 0.4589\n",
      "Epoch 9/15\n",
      "6820/6820 [==============================] - 388s 57ms/step - loss: 0.4583\n",
      "Epoch 10/15\n",
      "6820/6820 [==============================] - 388s 57ms/step - loss: 0.4578\n",
      "Epoch 11/15\n",
      "6820/6820 [==============================] - 389s 57ms/step - loss: 0.4574\n",
      "Epoch 12/15\n",
      "6820/6820 [==============================] - 389s 57ms/step - loss: 0.4569\n",
      "Epoch 13/15\n",
      "6820/6820 [==============================] - 394s 58ms/step - loss: 0.4565\n",
      "Epoch 14/15\n",
      "6820/6820 [==============================] - 392s 57ms/step - loss: 0.4564\n",
      "Epoch 15/15\n",
      "6820/6820 [==============================] - 393s 58ms/step - loss: 0.4561\n"
     ]
    }
   ],
   "source": [
    "#gets the next batch of the generator\n",
    "gen = generate_batch(matched_pairs, 1024, 2, matched_property)\n",
    "\n",
    "#fit the model with 15 epoch and with generator function\n",
    "h = model.fit_generator(gen, epochs = 15, steps_per_epoch = len(matched_pairs) // 1024, verbose = 1)\n",
    "\n",
    "model.save('./real_embedding_50.h5')"
   ]
  },
  {
   "cell_type": "code",
   "execution_count": 32,
   "id": "anticipated-difference",
   "metadata": {
    "ExecuteTime": {
     "end_time": "2021-06-22T16:49:33.631562Z",
     "start_time": "2021-06-22T16:49:33.029935Z"
    }
   },
   "outputs": [
    {
     "data": {
      "text/plain": [
       "(151306, 50)"
      ]
     },
     "execution_count": 32,
     "metadata": {},
     "output_type": "execute_result"
    }
   ],
   "source": [
    "#get matched model weights\n",
    "model = load_model('real_embedding_50.h5')\n",
    "layer = model.get_layer('hotel_embedding')\n",
    "weights = layer.get_weights()[0]\n",
    "weights.shape"
   ]
  },
  {
   "cell_type": "code",
   "execution_count": 34,
   "id": "optical-messenger",
   "metadata": {
    "ExecuteTime": {
     "end_time": "2021-06-22T16:50:15.388523Z",
     "start_time": "2021-06-22T16:50:15.340414Z"
    }
   },
   "outputs": [
    {
     "name": "stdout",
     "output_type": "stream",
     "text": [
      "[ 0.1264639   0.2942896   0.14372419 -0.29082537 -0.12410337  0.11697369\n",
      " -0.06726164  0.13039161 -0.00575748 -0.02209389]\n",
      "1.0\n"
     ]
    }
   ],
   "source": [
    "#normalization of matched model\n",
    "weights = weights / np.linalg.norm(weights, axis = 1).reshape((-1, 1))\n",
    "print(weights[0][:10])\n",
    "print(np.sum(np.square(weights[0])))"
   ]
  }
 ],
 "metadata": {
  "kernelspec": {
   "display_name": "Python 3",
   "language": "python",
   "name": "python3"
  },
  "language_info": {
   "codemirror_mode": {
    "name": "ipython",
    "version": 3
   },
   "file_extension": ".py",
   "mimetype": "text/x-python",
   "name": "python",
   "nbconvert_exporter": "python",
   "pygments_lexer": "ipython3",
   "version": "3.7.4"
  }
 },
 "nbformat": 4,
 "nbformat_minor": 5
}
