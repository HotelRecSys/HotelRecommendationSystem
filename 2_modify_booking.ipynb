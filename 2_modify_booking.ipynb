{
 "cells": [
  {
   "cell_type": "code",
   "execution_count": null,
   "id": "given-sarah",
   "metadata": {},
   "outputs": [],
   "source": [
    "import pandas as pd\n",
    "import numpy as np\n",
    "import math"
   ]
  },
  {
   "cell_type": "code",
   "execution_count": null,
   "id": "abandoned-burden",
   "metadata": {},
   "outputs": [],
   "source": [
    "#read booking_otel_metadata file\n",
    "booking = pd.read_csv('booking_otel_metadata.csv')"
   ]
  },
  {
   "cell_type": "code",
   "execution_count": null,
   "id": "japanese-monitor",
   "metadata": {},
   "outputs": [],
   "source": [
    "#assign empty string instead of nan cells\n",
    "for j in booking.columns[8:17]:\n",
    "    for i in range(len(booking)):\n",
    "        if type(booking[j][i]) == float:\n",
    "            booking[j][i] = \"\""
   ]
  },
  {
   "cell_type": "code",
   "execution_count": null,
   "id": "interpreted-multiple",
   "metadata": {},
   "outputs": [],
   "source": [
    "#concatenate hotel properties columns into a string with '|'\n",
    "array = []\n",
    "for i in range(len(booking)):\n",
    "    line = \"|\".join([str(booking['service'][i]), str(booking['room'][i]),str(booking['general'][i]),str(booking['wifi'][i]),str(booking['parking'][i]),str(booking['activity'][i]),str(booking['food'][i]),str(booking['pool'][i]),str(booking['languages'][i])])\n",
    "    line = line.replace('\\n','|')\n",
    "    array.append(line)\n",
    "\n",
    "#assign new string properties to 'property' column\n",
    "booking['property'] = array "
   ]
  },
  {
   "cell_type": "code",
   "execution_count": null,
   "id": "smart-sharing",
   "metadata": {},
   "outputs": [],
   "source": [
    "#removing empty properties from the property string (execute 3 times)\n",
    "for i in range(len(booking)):\n",
    "    if \"||\" in booking['property'][i]: \n",
    "        booking['property'][i] = booking['property'][i].replace(\"||\", \"|\")"
   ]
  },
  {
   "cell_type": "code",
   "execution_count": null,
   "id": "rational-preparation",
   "metadata": {},
   "outputs": [],
   "source": [
    "#delete concatenated columns from the table\n",
    "del booking['room']\n",
    "del booking['service']\n",
    "del booking['general']\n",
    "del booking['wifi']\n",
    "del booking['parking']\n",
    "del booking['activity']\n",
    "del booking['food']\n",
    "del booking['pool']\n",
    "del booking['languages']"
   ]
  },
  {
   "cell_type": "code",
   "execution_count": null,
   "id": "quantitative-directive",
   "metadata": {},
   "outputs": [],
   "source": [
    "#create new booking csv file\n",
    "booking.to_csv(\"final_booking.csv\",  header=['id','name','score','city','country','url','address','img','properties'], index=False)\n",
    "#read new booking file\n",
    "booking = pd.read_csv(\"final_booking.csv\")"
   ]
  }
 ],
 "metadata": {
  "kernelspec": {
   "display_name": "Python 3",
   "language": "python",
   "name": "python3"
  },
  "language_info": {
   "codemirror_mode": {
    "name": "ipython",
    "version": 3
   },
   "file_extension": ".py",
   "mimetype": "text/x-python",
   "name": "python",
   "nbconvert_exporter": "python",
   "pygments_lexer": "ipython3",
   "version": "3.7.4"
  }
 },
 "nbformat": 4,
 "nbformat_minor": 5
}
